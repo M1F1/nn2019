{
 "cells": [
  {
   "cell_type": "markdown",
   "metadata": {},
   "source": [
    "# Funkcje Pomocnicze do Zadania\n",
    "\n",
    "Aby wszystkie funkcje zadziałały, notebook powinien być uruchamiany z następującym ułożeniem katalogów:\n",
    "\n",
    "```\n",
    "|- helpers.ipynb\n",
    "|- sampleSubmission.csv\n",
    "|- train\n",
    " |- {unzipped train files and labels}\n",
    "|- test\n",
    " |- {unzipped test files}\n",
    "```\n",
    "\n",
    "Należy odkomentować u siebie linijki zapisujące pliki."
   ]
  },
  {
   "cell_type": "code",
   "execution_count": 5,
   "metadata": {
    "_cell_guid": "b1076dfc-b9ad-4769-8c92-a6c4dae69d19",
    "_uuid": "8f2839f25d086af736a60e9eeb907d3b93b6e0e5"
   },
   "outputs": [
    {
     "name": "stdout",
     "output_type": "stream",
     "text": [
      "Solving environment: - ^C\n",
      "failed\n",
      "\n",
      "CondaError: KeyboardInterrupt\n",
      "\n"
     ]
    }
   ],
   "source": [
    "!conda install -c conda-forge -y librosa"
   ]
  },
  {
   "cell_type": "code",
   "execution_count": 2,
   "metadata": {
    "_cell_guid": "79c7e3d0-c299-4dcb-8224-4455121ee9b0",
    "_uuid": "d629ff2d2480ee46fbb7e2d37f6b5fab8052498a"
   },
   "outputs": [],
   "source": [
    "import os\n",
    "\n",
    "import librosa\n",
    "from scipy import signal\n",
    "from scipy.io import wavfile\n",
    "from sklearn.metrics import roc_auc_score\n",
    "import numpy as np\n",
    "import torch\n",
    "from torch.utils.data import TensorDataset, DataLoader\n",
    "from tqdm import tqdm, trange"
   ]
  },
  {
   "cell_type": "markdown",
   "metadata": {},
   "source": [
    "# Wczytywanie Danych\n",
    "\n",
    "Poniższe funkcje są przykładowymi funkcjami wczytującymi dane. Możliwe, że będą potrzebne modyfikacje reprezentacji i bardziej skomplikowana funkcja tworząca zbiór treningowy. Wczytywanie danych nie jest zaimplementowane optymalnie - między innymi kod wczytuje wielokrotnie ten sam plik. Dla bardziej złożonych reprezentacji możliwe, że trzeba będzie przepisać te funkcje."
   ]
  },
  {
   "cell_type": "code",
   "execution_count": 59,
   "metadata": {},
   "outputs": [],
   "source": [
    "def load_mel(file_name, start=0, stop=None, n_mels=10):\n",
    "    '''Wczytuje mel spektrogram z pliku.\n",
    "    \n",
    "    Args:\n",
    "        file_name (str): Nazwa pliku z nagraniem.\n",
    "        start (float): Sekunda, w której zaczyna się interesujący fragment.\n",
    "        stop (float): Sekunda, w której kończy się interesujący fragment.\n",
    "        n_mels (int): Liczba meli na spektrogramie (wysokość spektrogramu).\n",
    "    \n",
    "    Returns:\n",
    "        ndarray: Spektrogram.\n",
    "    '''\n",
    "    samples, sample_rate = librosa.core.load(file_name, sr = None)\n",
    "    samples = samples[int(start * sample_rate):int(stop * sample_rate) if stop else None]\n",
    "    spectrogram = librosa.feature.melspectrogram(y = samples, sr = sample_rate,\n",
    "                                                 n_mels = n_mels, fmin = 6000, fmax = 8500)\n",
    "#     spectrogram = stats.boxcox(spectrogram, lmbda=0.043, alpha=0.000001)\n",
    "\n",
    "#     mfccs = librosa.feature.mfcc(S=spectrogram, norm='ortho', dct_type=3)\n",
    "#     return mfccs\n",
    "    return spectrogram\n",
    "\n",
    "\n",
    "def load_spec(file_name, start=0, stop=None):\n",
    "    '''Wczytuje standardowy spektrogram z pliku.\n",
    "    \n",
    "    Args:\n",
    "        file_name (str): Nazwa pliku z nagraniem.\n",
    "        start (float): Sekunda, w której zaczyna się interesujący fragment.\n",
    "        stop (float): Sekunda, w której kończy się interesujący fragment.\n",
    "    \n",
    "    Returns:\n",
    "        ndarray: Spektrogram.\n",
    "    '''\n",
    "    sample_rate, samples = wavfile.read(file_name)\n",
    "    samples = samples[int(start * sample_rate):int(stop * sample_rate) if stop else None]\n",
    "    _, _, spectrogram = signal.spectrogram(samples, sample_rate)\n",
    "    return spectrogram\n",
    "\n",
    "\n",
    "def load_test(load_repr=load_mel):\n",
    "    '''Wczytuje dane testowe.\n",
    "    \n",
    "    Args:\n",
    "        load_repr (function): Funkcja wczytująca pożądaną reprezentację.\n",
    "    \n",
    "    Returns:\n",
    "        ndarray: Tablica z danymi testowymi.\n",
    "    '''\n",
    "    with open('sampleSubmission.csv', 'r') as file:\n",
    "        lines = file.read().split()[1:]\n",
    "        sample_ids = [line.split(',')[0] for line in lines]\n",
    "        samples = np.array([s.split('/') for s in sample_ids])\n",
    "    \n",
    "    X_test = []\n",
    "    rec_files = [file_name for file_name in os.listdir('test') if file_name.endswith('.wav')]\n",
    "    for file_name in tqdm(rec_files):\n",
    "        recording_id = file_name.split('.')[0][3:]\n",
    "        time_markers = samples[samples[:, 0] == recording_id, 1].astype(np.int)\n",
    "        for t in time_markers:\n",
    "            representation = load_repr(os.path.join('test', file_name), start = t, stop = t + 1)\n",
    "            X_test.append(representation)\n",
    "    return np.array(X_test)\n",
    "\n",
    "\n",
    "def read_labels():\n",
    "    '''Wczytuje etykiety czasowe z pliku labels.txt w folderze train.\n",
    "    \n",
    "    Returns:\n",
    "        ndarray: Tablica z etykietami czasowymi zawierająca kolumny: nr nagrania, sekunda początku dźwięku, sekunda końca dźwięku.\n",
    "    '''\n",
    "    labels = []\n",
    "    with open(os.path.join('train', 'labels.txt'), 'r') as file:\n",
    "        text = file.read()\n",
    "        for line in text.split('\\n')[1:]:\n",
    "            if len(line) > 1:\n",
    "                rec, start, stop = line.split(',')\n",
    "                rec, start, stop = int(rec[3:]), float(start), float(stop)\n",
    "                labels.append([rec, start, stop])\n",
    "    return np.array(labels)\n",
    "\n",
    "\n",
    "def check_voices(second, labels, tol=0.):\n",
    "    '''Sprawdza czy w ramce czasowej [second, second+1] znajduje się głos według etykiet `labels`.\n",
    "    \n",
    "    Args:\n",
    "        second (float): Sekunda nagrania.\n",
    "        labels (ndarray): Tablica z etykietami, której 2 kolumna oznacza początek, a 3-cia - koniec nagrania.\n",
    "        tol (float): Tolerancja na brzegach fragmentu. Dźwięk, żeby był uznany, musi się kończyć po czasie `second+tol`\n",
    "            lub zaczynać przed czasem `second+1-tol`.\n",
    "    Returns:\n",
    "        bool: Czy w ramce czasowej jest odgłos ptaka.\n",
    "    '''\n",
    "    return (labels[1] >= second and labels[1] < second + 1 - tol) or \\\n",
    "           (labels[2] < second + 1 and labels[2] > second + tol) or \\\n",
    "           (labels[1] < second and labels[2] > second + 1)\n",
    "\n",
    "\n",
    "def map_seconds_to_y(labels):\n",
    "    '''Tworzy etykiety dla każdej kolejnej sekundy 10-sekundowego nagrania. -1 oznacza niepewną etykietę (urwane dźwięki na brzegach).\n",
    "    \n",
    "    Args:\n",
    "        labels (ndarray): Tablica z etykietami, której 2 kolumna oznacza początek, a 3-cia - koniec nagrania.\n",
    "    Returns:\n",
    "        ndarray: Tablica z binarnymi etykietami dla każdej z 10 sekund z możliwą niepewną etkietą -1.\n",
    "    '''\n",
    "    y = [0] * 10\n",
    "    y_restrictive = [0] * 10\n",
    "    for s in range(10):\n",
    "        for l in labels:\n",
    "            if check_voices(s, l):\n",
    "                y[s] = 1\n",
    "            if check_voices(s, l, 0.02):\n",
    "                y_restrictive[s] = 1\n",
    "        if y[s] != y_restrictive[s]:\n",
    "            y[s] = -1\n",
    "    return y\n",
    "\n",
    "\n",
    "def load_train(load_repr=load_mel):\n",
    "    '''Wczytuje dane treningowe.\n",
    "    \n",
    "    Args:\n",
    "        load_repr (function): Funkcja wczytująca pożądaną reprezentację.\n",
    "    \n",
    "    Returns:\n",
    "        (ndarray, ndarray): Tablica z danymi treningowymi, tablica z binarnymi etykietami treningowymi.\n",
    "    '''\n",
    "    labels = read_labels()\n",
    "    X_train, y_train = [], []\n",
    "    rec_files = [file_name for file_name in os.listdir('train') if file_name.endswith('.wav')]\n",
    "    print(rec_files)\n",
    "    for file_name in rec_files:\n",
    "        recording_id = int(file_name.split('.')[0][3:])\n",
    "        recording_labels = labels[labels[:, 0] == recording_id]\n",
    "        y_binary = map_seconds_to_y(recording_labels)\n",
    "        for i, y in enumerate(y_binary):\n",
    "            if y != -1:\n",
    "                try:\n",
    "                    representation = load_repr(os.path.join('train', file_name), start = i, stop = i + 1)\n",
    "                    X_train.append(representation)\n",
    "                    y_train.append(y)\n",
    "                except ValueError:\n",
    "                    print('Error reading file', file_name)\n",
    "                except TypeError:\n",
    "                    print('Unsupported type', file_name)\n",
    "    return np.array(X_train), np.array(y_train)\n",
    "\n",
    "def prepare_training_set(labels, interval):\n",
    "    starts, stops, y_binary = [], [], []\n",
    "    compartment = interval / 2\n",
    "    # creating positive samples \n",
    "    for label in labels:\n",
    "        middle = label[1] + (label[2] - label[1]) / 2 \n",
    "        start = middle - compartment\n",
    "        starts.append(start)\n",
    "        stop = middle + compartment\n",
    "        stops.append(stop)\n",
    "        if start < 0 or stop > 10:\n",
    "            y_binary.append(-1)\n",
    "        else: \n",
    "            y_binary.append(1)\n",
    "    # creating negative samples\n",
    "    loop_counter = len(labels) \n",
    "    while loop_counter:\n",
    "        middle = torch.FloatTensor(1).uniform_(compartment, 10 - compartment).numpy()\n",
    "        start = middle - compartment \n",
    "        stop = middle + compartment\n",
    "        check = np.zeros(len(starts))\n",
    "        for i in range(len(starts)):\n",
    "            if start > stops[i] or stop < starts[i]:\n",
    "                check[i] = 1\n",
    "            else:\n",
    "                check[i] = 0\n",
    "        if np.all(check):\n",
    "            loop_counter -= 1\n",
    "            starts.append(start)\n",
    "            stops.append(stop)\n",
    "            y_binary.append(0)\n",
    "            \n",
    "    return starts, stops, y_binary\n",
    "\n",
    "def load_train_2(load_repr=load_mel):\n",
    "    '''Wczytuje dane treningowe.\n",
    "    \n",
    "    Args:\n",
    "        load_repr (function): Funkcja wczytująca pożądaną reprezentację.\n",
    "    \n",
    "    Returns:\n",
    "        (ndarray, ndarray): Tablica z danymi treningowymi, tablica z binarnymi etykietami treningowymi.\n",
    "    '''\n",
    "    labels = read_labels()\n",
    "    X_train, y_train = [], []\n",
    "    rec_files = [file_name for file_name in os.listdir('train') if file_name.endswith('.wav')]\n",
    "    for file_name in tqdm(rec_files):\n",
    "        recording_id = int(file_name.split('.')[0][3:])\n",
    "        recording_labels = labels[labels[:, 0] == recording_id]\n",
    "#         print('recording labels:', recording_labels)\n",
    "        starts, stops, y_binary = prepare_training_set(recording_labels, 0.3)\n",
    "#         print(\"starts:\", starts)\n",
    "#         print(\"stops:\", stops)\n",
    "        assert len(starts) == len(stops) == len(y_binary)\n",
    "        for start, stop, y in zip(starts, stops, y_binary):\n",
    "            if y != -1:\n",
    "                try:\n",
    "    #                 print('start:',start)\n",
    "    #                 print('stop:',stop)\n",
    "    #                 print('filename:',file_name)\n",
    "                    representation = load_repr(os.path.join('train', file_name), start=start, stop=stop)\n",
    "                    X_train.append(representation)\n",
    "                    y_train.append(y)\n",
    "    #                 print(X_train[0].shape)\n",
    "    #                 print(y_train[0])\n",
    "                except ValueError as e:\n",
    "                    print('Error reading file', file_name)\n",
    "                    print(e)\n",
    "                except TypeError as e:\n",
    "                    print('Unsupported type', file_name)\n",
    "                    print(e)\n",
    "    return np.array(X_train), np.array(y_train)"
   ]
  },
  {
   "cell_type": "markdown",
   "metadata": {},
   "source": [
    "# Zapisywanie Wczytanej Reprezentacji\n",
    "\n",
    "Ponieważ tworzenie reprezentacji może zabierać sporo czasu (szczególnie w tak naiwnej implementacji jak powyższa), warto zapisać wczytane dane do plików."
   ]
  },
  {
   "cell_type": "code",
   "execution_count": 731,
   "metadata": {
    "scrolled": false
   },
   "outputs": [
    {
     "name": "stdout",
     "output_type": "stream",
     "text": [
      "/home/michal/Studia/2_semester/nnSolutions/nn2019/2_kaggle_birds_sounds/data\n",
      "['helpers.ipynb', 'sampleSubmission.csv', 'train', 'tmp_model.pt', 'submission.csv', 'tmp_preds.npy', 'test', '.ipynb_checkpoints']\n"
     ]
    }
   ],
   "source": [
    "print(os.getcwd())\n",
    "print(os.listdir(\".\"))"
   ]
  },
  {
   "cell_type": "code",
   "execution_count": 732,
   "metadata": {
    "scrolled": true
   },
   "outputs": [
    {
     "ename": "ModuleNotFoundError",
     "evalue": "No module named 'librosa.core.logamplitude'",
     "output_type": "error",
     "traceback": [
      "\u001b[0;31m---------------------------------------------------------------------------\u001b[0m",
      "\u001b[0;31mModuleNotFoundError\u001b[0m                       Traceback (most recent call last)",
      "\u001b[0;32m<ipython-input-732-04fb2328303c>\u001b[0m in \u001b[0;36m<module>\u001b[0;34m\u001b[0m\n\u001b[0;32m----> 1\u001b[0;31m \u001b[0;32mimport\u001b[0m \u001b[0mlibrosa\u001b[0m\u001b[0;34m.\u001b[0m\u001b[0mcore\u001b[0m\u001b[0;34m.\u001b[0m\u001b[0mlogamplitude\u001b[0m\u001b[0;34m\u001b[0m\u001b[0;34m\u001b[0m\u001b[0m\n\u001b[0m",
      "\u001b[0;31mModuleNotFoundError\u001b[0m: No module named 'librosa.core.logamplitude'"
     ]
    }
   ],
   "source": [
    "import librosa.core.logamplitude"
   ]
  },
  {
   "cell_type": "code",
   "execution_count": 7,
   "metadata": {
    "scrolled": false
   },
   "outputs": [
    {
     "data": {
      "text/plain": [
       "<matplotlib.axes._subplots.AxesSubplot at 0x7fc1f58f7d68>"
      ]
     },
     "execution_count": 7,
     "metadata": {},
     "output_type": "execute_result"
    },
    {
     "data": {
      "image/png": "[encoded data removed]",
      "text/plain": [
       "<Figure size 432x288 with 1 Axes>"
      ]
     },
     "metadata": {
      "needs_background": "light"
     },
     "output_type": "display_data"
    }
   ],
   "source": [
    "import librosa.display\n",
    "spec = load_mel(os.path.join(os.getcwd(), 'train','rec25.wav'),start=9.1, stop=9.4)\n",
    "# spec = librosa.power_to_db(spec,ref=5.0)\n",
    "librosa.display.specshow(spec, y_axis='mel', x_axis='time')"
   ]
  },
  {
   "cell_type": "code",
   "execution_count": 772,
   "metadata": {},
   "outputs": [],
   "source": [
    "mfccs = librosa.feature.mfcc(S=spec, norm='ortho', dct_type=3)"
   ]
  },
  {
   "cell_type": "code",
   "execution_count": 773,
   "metadata": {
    "scrolled": true
   },
   "outputs": [
    {
     "data": {
      "image/png": "[encoded data removed]",
      "text/plain": [
       "<Figure size 720x288 with 2 Axes>"
      ]
     },
     "metadata": {
      "needs_background": "light"
     },
     "output_type": "display_data"
    }
   ],
   "source": [
    "\n",
    "import matplotlib.pyplot as plt\n",
    "plt.figure(figsize=(10, 4))\n",
    "librosa.display.specshow(mfccs, x_axis='time')\n",
    "plt.colorbar()\n",
    "plt.title('MFCC')\n",
    "plt.tight_layout()"
   ]
  },
  {
   "cell_type": "code",
   "execution_count": 766,
   "metadata": {},
   "outputs": [
    {
     "data": {
      "text/plain": [
       "(10, 87)"
      ]
     },
     "execution_count": 766,
     "metadata": {},
     "output_type": "execute_result"
    }
   ],
   "source": [
    "mfccs.shape"
   ]
  },
  {
   "cell_type": "code",
   "execution_count": 476,
   "metadata": {},
   "outputs": [
    {
     "data": {
      "text/plain": [
       "(10, 87)"
      ]
     },
     "execution_count": 476,
     "metadata": {},
     "output_type": "execute_result"
    }
   ],
   "source": [
    "spec.shape"
   ]
  },
  {
   "cell_type": "code",
   "execution_count": 463,
   "metadata": {},
   "outputs": [
    {
     "data": {
      "text/plain": [
       "(10, 87)"
      ]
     },
     "execution_count": 463,
     "metadata": {},
     "output_type": "execute_result"
    }
   ],
   "source": [
    "spec.shape"
   ]
  },
  {
   "cell_type": "code",
   "execution_count": 60,
   "metadata": {},
   "outputs": [
    {
     "name": "stderr",
     "output_type": "stream",
     "text": [
      "100%|██████████| 175/175 [00:14<00:00, 12.11it/s]\n",
      "100%|██████████| 361/361 [00:12<00:00, 29.09it/s]\n"
     ]
    }
   ],
   "source": [
    "# Poniższa linijka ustawia folder główny\n",
    "# os.chdir('../input/')\n",
    "\n",
    "X_test = load_test()\n",
    "# np.save(os.path.join('test', 'tmp_X_test'), X_test)\n",
    "\n",
    "X, y = load_train_2()\n",
    "# np.save(os.path.join('train', 'tmp_X_train'), X)\n",
    "# np.save(os.path.join('train', 'tmp_y_train'), y)"
   ]
  },
  {
   "cell_type": "code",
   "execution_count": 61,
   "metadata": {},
   "outputs": [
    {
     "data": {
      "text/plain": [
       "(959, 10, 26)"
      ]
     },
     "execution_count": 61,
     "metadata": {},
     "output_type": "execute_result"
    }
   ],
   "source": [
    "X.shape"
   ]
  },
  {
   "cell_type": "code",
   "execution_count": 62,
   "metadata": {},
   "outputs": [],
   "source": [
    "np.save(os.path.join('test', 'tmp_X_test'), X_test)\n",
    "np.save(os.path.join('train', 'tmp_X_train'), X)\n",
    "np.save(os.path.join('train', 'tmp_y_train'), y)"
   ]
  },
  {
   "cell_type": "code",
   "execution_count": 63,
   "metadata": {},
   "outputs": [],
   "source": [
    "X_test = np.load(os.path.join(os.getcwd(), 'test', 'tmp_X_test.npy'))\n",
    "X = np.load(os.path.join(os.getcwd(), 'train', 'tmp_X_train.npy'))\n",
    "y = np.load(os.path.join(os.getcwd(), 'train', 'tmp_y_train.npy'))"
   ]
  },
  {
   "cell_type": "code",
   "execution_count": 112,
   "metadata": {},
   "outputs": [
    {
     "data": {
      "text/plain": [
       "1"
      ]
     },
     "execution_count": 112,
     "metadata": {},
     "output_type": "execute_result"
    }
   ],
   "source": [
    "y[4]"
   ]
  },
  {
   "cell_type": "code",
   "execution_count": 65,
   "metadata": {},
   "outputs": [
    {
     "data": {
      "text/plain": [
       "(959, 10, 26)"
      ]
     },
     "execution_count": 65,
     "metadata": {},
     "output_type": "execute_result"
    }
   ],
   "source": [
    "X.shape"
   ]
  },
  {
   "cell_type": "code",
   "execution_count": 66,
   "metadata": {},
   "outputs": [],
   "source": [
    "import librosa.display"
   ]
  },
  {
   "cell_type": "code",
   "execution_count": 113,
   "metadata": {},
   "outputs": [
    {
     "data": {
      "text/plain": [
       "<matplotlib.axes._subplots.AxesSubplot at 0x7fc1ee9095c0>"
      ]
     },
     "execution_count": 113,
     "metadata": {},
     "output_type": "execute_result"
    },
    {
     "data": {
      "image/png": "[encoded data removed]",
      "text/plain": [
       "<Figure size 432x288 with 1 Axes>"
      ]
     },
     "metadata": {
      "needs_background": "light"
     },
     "output_type": "display_data"
    }
   ],
   "source": [
    "librosa.display.specshow(X[4], y_axis='mel', x_axis='time')\n"
   ]
  },
  {
   "cell_type": "code",
   "execution_count": 10,
   "metadata": {},
   "outputs": [],
   "source": [
    "mfccs = librosa.feature.mfcc(S=librosa.power_to_db(X[120]), n_mfcc=20, dct_type=3)\n"
   ]
  },
  {
   "cell_type": "code",
   "execution_count": 11,
   "metadata": {},
   "outputs": [
    {
     "data": {
      "text/plain": [
       "(10, 87)"
      ]
     },
     "execution_count": 11,
     "metadata": {},
     "output_type": "execute_result"
    }
   ],
   "source": [
    "mfccs.shape"
   ]
  },
  {
   "cell_type": "code",
   "execution_count": 12,
   "metadata": {},
   "outputs": [
    {
     "data": {
      "image/png": "[encoded data removed]",
      "text/plain": [
       "<Figure size 720x288 with 2 Axes>"
      ]
     },
     "metadata": {
      "needs_background": "light"
     },
     "output_type": "display_data"
    }
   ],
   "source": [
    "import matplotlib.pyplot as plt\n",
    "plt.figure(figsize=(10, 4))\n",
    "librosa.display.specshow(mfccs, x_axis='time')\n",
    "plt.colorbar()\n",
    "plt.title('MFCC')\n",
    "plt.tight_layout()"
   ]
  },
  {
   "cell_type": "markdown",
   "metadata": {},
   "source": [
    "# Model i Trenowanie\n",
    "\n",
    "Poniższy przykład używa poprawnych metryk i zapisuje parametry modelu."
   ]
  },
  {
   "cell_type": "code",
   "execution_count": 550,
   "metadata": {},
   "outputs": [],
   "source": [
    "# class Detector(torch.nn.Module):\n",
    "    \n",
    "#     def __init__(self):\n",
    "#         super().__init__()\n",
    "#         self.linear = torch.nn.Linear(10 * 87, 2)\n",
    "    \n",
    "#     def forward(self, x):\n",
    "#         out = torch.flatten(x, start_dim = 1)\n",
    "#         out = self.linear(out)\n",
    "#         return out\n",
    "    \n",
    "# clf = Detector()"
   ]
  },
  {
   "cell_type": "code",
   "execution_count": 51,
   "metadata": {
    "scrolled": true
   },
   "outputs": [
    {
     "name": "stderr",
     "output_type": "stream",
     "text": [
      "  1%|          | 1/100 [00:01<01:41,  1.02s/it]"
     ]
    },
    {
     "name": "stdout",
     "output_type": "stream",
     "text": [
      "0.308207070707\n"
     ]
    },
    {
     "name": "stderr",
     "output_type": "stream",
     "text": [
      "\r",
      "  2%|▏         | 2/100 [00:02<01:38,  1.01s/it]"
     ]
    },
    {
     "name": "stdout",
     "output_type": "stream",
     "text": [
      "0.347095959596\n"
     ]
    },
    {
     "name": "stderr",
     "output_type": "stream",
     "text": [
      "\r",
      "  3%|▎         | 3/100 [00:03<01:38,  1.01s/it]"
     ]
    },
    {
     "name": "stdout",
     "output_type": "stream",
     "text": [
      "0.589971139971\n"
     ]
    },
    {
     "name": "stderr",
     "output_type": "stream",
     "text": [
      "\r",
      "  4%|▍         | 4/100 [00:04<01:37,  1.02s/it]"
     ]
    },
    {
     "name": "stdout",
     "output_type": "stream",
     "text": [
      "0.550586219336\n"
     ]
    },
    {
     "name": "stderr",
     "output_type": "stream",
     "text": [
      "\n"
     ]
    },
    {
     "ename": "KeyboardInterrupt",
     "evalue": "",
     "output_type": "error",
     "traceback": [
      "\u001b[0;31m-------------------------------------\u001b[0m",
      "\u001b[0;31mKeyboardInterrupt\u001b[0mTraceback (most recent call last)",
      "\u001b[0;32m<ipython-input-51-93a198c8aa73>\u001b[0m in \u001b[0;36m<module>\u001b[0;34m\u001b[0m\n\u001b[1;32m    133\u001b[0m         \u001b[0moptimizer\u001b[0m\u001b[0;34m.\u001b[0m\u001b[0mzero_grad\u001b[0m\u001b[0;34m(\u001b[0m\u001b[0;34m)\u001b[0m\u001b[0;34m\u001b[0m\u001b[0;34m\u001b[0m\u001b[0m\n\u001b[1;32m    134\u001b[0m \u001b[0;34m\u001b[0m\u001b[0m\n\u001b[0;32m--> 135\u001b[0;31m         \u001b[0moutputs\u001b[0m \u001b[0;34m=\u001b[0m \u001b[0mclf\u001b[0m\u001b[0;34m(\u001b[0m\u001b[0mX\u001b[0m\u001b[0;34m)\u001b[0m\u001b[0;34m\u001b[0m\u001b[0;34m\u001b[0m\u001b[0m\n\u001b[0m\u001b[1;32m    136\u001b[0m         \u001b[0mloss\u001b[0m \u001b[0;34m=\u001b[0m \u001b[0mcriterion\u001b[0m\u001b[0;34m(\u001b[0m\u001b[0moutputs\u001b[0m\u001b[0;34m,\u001b[0m \u001b[0my\u001b[0m\u001b[0;34m)\u001b[0m\u001b[0;34m\u001b[0m\u001b[0;34m\u001b[0m\u001b[0m\n\u001b[1;32m    137\u001b[0m         \u001b[0mloss\u001b[0m\u001b[0;34m.\u001b[0m\u001b[0mbackward\u001b[0m\u001b[0;34m(\u001b[0m\u001b[0;34m)\u001b[0m\u001b[0;34m\u001b[0m\u001b[0;34m\u001b[0m\u001b[0m\n",
      "\u001b[0;32m~/miniconda3/envs/nn2019/lib/python3.6/site-packages/torch/nn/modules/module.py\u001b[0m in \u001b[0;36m__call__\u001b[0;34m(self, *input, **kwargs)\u001b[0m\n\u001b[1;32m    487\u001b[0m             \u001b[0mresult\u001b[0m \u001b[0;34m=\u001b[0m \u001b[0mself\u001b[0m\u001b[0;34m.\u001b[0m\u001b[0m_slow_forward\u001b[0m\u001b[0;34m(\u001b[0m\u001b[0;34m*\u001b[0m\u001b[0minput\u001b[0m\u001b[0;34m,\u001b[0m \u001b[0;34m**\u001b[0m\u001b[0mkwargs\u001b[0m\u001b[0;34m)\u001b[0m\u001b[0;34m\u001b[0m\u001b[0;34m\u001b[0m\u001b[0m\n\u001b[1;32m    488\u001b[0m         \u001b[0;32melse\u001b[0m\u001b[0;34m:\u001b[0m\u001b[0;34m\u001b[0m\u001b[0;34m\u001b[0m\u001b[0m\n\u001b[0;32m--> 489\u001b[0;31m             \u001b[0mresult\u001b[0m \u001b[0;34m=\u001b[0m \u001b[0mself\u001b[0m\u001b[0;34m.\u001b[0m\u001b[0mforward\u001b[0m\u001b[0;34m(\u001b[0m\u001b[0;34m*\u001b[0m\u001b[0minput\u001b[0m\u001b[0;34m,\u001b[0m \u001b[0;34m**\u001b[0m\u001b[0mkwargs\u001b[0m\u001b[0;34m)\u001b[0m\u001b[0;34m\u001b[0m\u001b[0;34m\u001b[0m\u001b[0m\n\u001b[0m\u001b[1;32m    490\u001b[0m         \u001b[0;32mfor\u001b[0m \u001b[0mhook\u001b[0m \u001b[0;32min\u001b[0m \u001b[0mself\u001b[0m\u001b[0;34m.\u001b[0m\u001b[0m_forward_hooks\u001b[0m\u001b[0;34m.\u001b[0m\u001b[0mvalues\u001b[0m\u001b[0;34m(\u001b[0m\u001b[0;34m)\u001b[0m\u001b[0;34m:\u001b[0m\u001b[0;34m\u001b[0m\u001b[0;34m\u001b[0m\u001b[0m\n\u001b[1;32m    491\u001b[0m             \u001b[0mhook_result\u001b[0m \u001b[0;34m=\u001b[0m \u001b[0mhook\u001b[0m\u001b[0;34m(\u001b[0m\u001b[0mself\u001b[0m\u001b[0;34m,\u001b[0m \u001b[0minput\u001b[0m\u001b[0;34m,\u001b[0m \u001b[0mresult\u001b[0m\u001b[0;34m)\u001b[0m\u001b[0;34m\u001b[0m\u001b[0;34m\u001b[0m\u001b[0m\n",
      "\u001b[0;32m<ipython-input-51-93a198c8aa73>\u001b[0m in \u001b[0;36mforward\u001b[0;34m(self, x)\u001b[0m\n\u001b[1;32m     28\u001b[0m         \u001b[0;32mif\u001b[0m \u001b[0mlog\u001b[0m\u001b[0;34m:\u001b[0m\u001b[0;34m\u001b[0m\u001b[0;34m\u001b[0m\u001b[0m\n\u001b[1;32m     29\u001b[0m             \u001b[0mprint\u001b[0m\u001b[0;34m(\u001b[0m\u001b[0mx\u001b[0m\u001b[0;34m.\u001b[0m\u001b[0mshape\u001b[0m\u001b[0;34m)\u001b[0m\u001b[0;34m\u001b[0m\u001b[0;34m\u001b[0m\u001b[0m\n\u001b[0;32m---> 30\u001b[0;31m         \u001b[0mout\u001b[0m \u001b[0;34m=\u001b[0m \u001b[0mself\u001b[0m\u001b[0;34m.\u001b[0m\u001b[0mrelu\u001b[0m\u001b[0;34m(\u001b[0m\u001b[0mself\u001b[0m\u001b[0;34m.\u001b[0m\u001b[0mbatch_norm1\u001b[0m\u001b[0;34m(\u001b[0m\u001b[0mself\u001b[0m\u001b[0;34m.\u001b[0m\u001b[0mconv\u001b[0m\u001b[0;34m(\u001b[0m\u001b[0mx\u001b[0m\u001b[0;34m)\u001b[0m\u001b[0;34m)\u001b[0m\u001b[0;34m)\u001b[0m\u001b[0;34m\u001b[0m\u001b[0;34m\u001b[0m\u001b[0m\n\u001b[0m\u001b[1;32m     31\u001b[0m         \u001b[0;32mif\u001b[0m \u001b[0mlog\u001b[0m\u001b[0;34m:\u001b[0m\u001b[0;34m\u001b[0m\u001b[0;34m\u001b[0m\u001b[0m\n\u001b[1;32m     32\u001b[0m             \u001b[0mprint\u001b[0m\u001b[0;34m(\u001b[0m\u001b[0mout\u001b[0m\u001b[0;34m.\u001b[0m\u001b[0mshape\u001b[0m\u001b[0;34m)\u001b[0m\u001b[0;34m\u001b[0m\u001b[0;34m\u001b[0m\u001b[0m\n",
      "\u001b[0;32m~/miniconda3/envs/nn2019/lib/python3.6/site-packages/torch/nn/modules/module.py\u001b[0m in \u001b[0;36m__call__\u001b[0;34m(self, *input, **kwargs)\u001b[0m\n\u001b[1;32m    487\u001b[0m             \u001b[0mresult\u001b[0m \u001b[0;34m=\u001b[0m \u001b[0mself\u001b[0m\u001b[0;34m.\u001b[0m\u001b[0m_slow_forward\u001b[0m\u001b[0;34m(\u001b[0m\u001b[0;34m*\u001b[0m\u001b[0minput\u001b[0m\u001b[0;34m,\u001b[0m \u001b[0;34m**\u001b[0m\u001b[0mkwargs\u001b[0m\u001b[0;34m)\u001b[0m\u001b[0;34m\u001b[0m\u001b[0;34m\u001b[0m\u001b[0m\n\u001b[1;32m    488\u001b[0m         \u001b[0;32melse\u001b[0m\u001b[0;34m:\u001b[0m\u001b[0;34m\u001b[0m\u001b[0;34m\u001b[0m\u001b[0m\n\u001b[0;32m--> 489\u001b[0;31m             \u001b[0mresult\u001b[0m \u001b[0;34m=\u001b[0m \u001b[0mself\u001b[0m\u001b[0;34m.\u001b[0m\u001b[0mforward\u001b[0m\u001b[0;34m(\u001b[0m\u001b[0;34m*\u001b[0m\u001b[0minput\u001b[0m\u001b[0;34m,\u001b[0m \u001b[0;34m**\u001b[0m\u001b[0mkwargs\u001b[0m\u001b[0;34m)\u001b[0m\u001b[0;34m\u001b[0m\u001b[0;34m\u001b[0m\u001b[0m\n\u001b[0m\u001b[1;32m    490\u001b[0m         \u001b[0;32mfor\u001b[0m \u001b[0mhook\u001b[0m \u001b[0;32min\u001b[0m \u001b[0mself\u001b[0m\u001b[0;34m.\u001b[0m\u001b[0m_forward_hooks\u001b[0m\u001b[0;34m.\u001b[0m\u001b[0mvalues\u001b[0m\u001b[0;34m(\u001b[0m\u001b[0;34m)\u001b[0m\u001b[0;34m:\u001b[0m\u001b[0;34m\u001b[0m\u001b[0;34m\u001b[0m\u001b[0m\n\u001b[1;32m    491\u001b[0m             \u001b[0mhook_result\u001b[0m \u001b[0;34m=\u001b[0m \u001b[0mhook\u001b[0m\u001b[0;34m(\u001b[0m\u001b[0mself\u001b[0m\u001b[0;34m,\u001b[0m \u001b[0minput\u001b[0m\u001b[0;34m,\u001b[0m \u001b[0mresult\u001b[0m\u001b[0;34m)\u001b[0m\u001b[0;34m\u001b[0m\u001b[0;34m\u001b[0m\u001b[0m\n",
      "\u001b[0;32m~/miniconda3/envs/nn2019/lib/python3.6/site-packages/torch/nn/modules/conv.py\u001b[0m in \u001b[0;36mforward\u001b[0;34m(self, input)\u001b[0m\n\u001b[1;32m    318\u001b[0m     \u001b[0;32mdef\u001b[0m \u001b[0mforward\u001b[0m\u001b[0;34m(\u001b[0m\u001b[0mself\u001b[0m\u001b[0;34m,\u001b[0m \u001b[0minput\u001b[0m\u001b[0;34m)\u001b[0m\u001b[0;34m:\u001b[0m\u001b[0;34m\u001b[0m\u001b[0;34m\u001b[0m\u001b[0m\n\u001b[1;32m    319\u001b[0m         return F.conv2d(input, self.weight, self.bias, self.stride,\n\u001b[0;32m--> 320\u001b[0;31m                         self.padding, self.dilation, self.groups)\n\u001b[0m\u001b[1;32m    321\u001b[0m \u001b[0;34m\u001b[0m\u001b[0m\n\u001b[1;32m    322\u001b[0m \u001b[0;34m\u001b[0m\u001b[0m\n",
      "\u001b[0;31mKeyboardInterrupt\u001b[0m: "
     ]
    }
   ],
   "source": [
    "\n",
    "X_test = np.load(os.path.join(os.getcwd(), 'test', 'tmp_X_test.npy'))\n",
    "X = np.load(os.path.join(os.getcwd(), 'train', 'tmp_X_train.npy'))\n",
    "y = np.load(os.path.join(os.getcwd(), 'train', 'tmp_y_train.npy'))\n",
    "\n",
    "import torch\n",
    "class ConvNet(torch.nn.Module):\n",
    "    \n",
    "    def __init__(self, block):\n",
    "        super(ConvNet, self).__init__()\n",
    "        \n",
    "        # wstępna warstwa konwolucyjna + ReLU\n",
    "        self.conv = torch.nn.Conv2d(1, 8, kernel_size=(1,10))\n",
    "        self.relu = torch.nn.ReLU()\n",
    "        self.batch_norm1 = torch.nn.BatchNorm2d(8)\n",
    "        \n",
    "        # (mikroarchitektura + max pooling) x 2\n",
    "#         self.block1 = block(16, 32)\n",
    "#         self.pool1 = torch.nn.MaxPool2d((1,10))\n",
    "#         self.block2 = block(32, 64)\n",
    "        self.pool2 = torch.nn.MaxPool2d((1,10))\n",
    "        \n",
    "        # warstwa w pełni połączona po \"rozprostowaniu\" obrazu do postaci wektora\n",
    "        self.dense = torch.nn.Linear(560, 2)\n",
    "    \n",
    "    def forward(self, x):\n",
    "        log = False \n",
    "        if log:\n",
    "            print(x.shape)\n",
    "        out = self.relu(self.batch_norm1(self.conv(x)))\n",
    "        if log:\n",
    "            print(out.shape)\n",
    "#         out = self.block1(out)\n",
    "#         if log:\n",
    "#             print(out.shape)\n",
    "#         out = self.pool1(out)\n",
    "#         if log:\n",
    "#             print(out.shape)\n",
    "#         out = self.block2(out)\n",
    "#         if log:\n",
    "#             print(out.shape)\n",
    "        out = self.pool2(out)\n",
    "        if log:\n",
    "            print(out.shape)\n",
    "        out = out.view(out.size(0), -1)\n",
    "        \n",
    "        if log:\n",
    "            print(out.shape)\n",
    "        return self.dense(out)\n",
    "    \n",
    "class BaseBlock(torch.nn.Module):\n",
    "    \n",
    "    def __init__(self, in_channels, out_channels, hidden_channels=None):\n",
    "        super(BaseBlock, self).__init__()\n",
    "        if not hidden_channels:\n",
    "            hidden_channels = out_channels\n",
    "\n",
    "        # konwolucja zawiera padding=1, aby nie zmniejszać rozmiaru obrazu\n",
    "        self.conv1 = torch.nn.Conv2d(in_channels, hidden_channels, kernel_size=(1,10))\n",
    "        # istnieje wersja batch normalization dla obrazów - statystyki dla filtrów\n",
    "        self.batch_norm1 = torch.nn.BatchNorm2d(hidden_channels)\n",
    "        # nieliniowość ReLU\n",
    "        self.relu1 = torch.nn.ReLU()\n",
    "\n",
    "        # drugi raz te same warstwy\n",
    "        self.conv2 = torch.nn.Conv2d(hidden_channels, out_channels, kernel_size=(2,2))\n",
    "        self.batch_norm2 = torch.nn.BatchNorm2d(out_channels)\n",
    "        self.relu2 = torch.nn.ReLU()\n",
    "\n",
    "    def forward(self, x):\n",
    "        out = self.relu1(self.batch_norm1(self.conv1(x)))\n",
    "        out = self.relu2(self.batch_norm2(self.conv2(out)))\n",
    "        return out   \n",
    "\n",
    "class ResNetBlock(torch.nn.Module):\n",
    "    \n",
    "    def __init__(self, in_channels, out_channels, hidden_channels=None):\n",
    "        super(ResNetBlock, self).__init__()\n",
    "        if not hidden_channels:\n",
    "            hidden_channels = out_channels\n",
    "        self.in_channels = in_channels\n",
    "        self.out_channels = out_channels\n",
    "        self.conv1 = torch.nn.Conv2d(in_channels, hidden_channels, kernel_size=3, padding=1)\n",
    "        self.batch_norm1 = torch.nn.BatchNorm2d(hidden_channels) \n",
    "        self.relu1 = torch.nn.ReLU()\n",
    "        self.conv2 = torch.nn.Conv2d(hidden_channels, out_channels, kernel_size=3, padding=1)\n",
    "        self.conv3 = torch.nn.Conv2d(in_channels, out_channels, kernel_size=1)\n",
    "        self.batch_norm2 = torch.nn.BatchNorm2d(out_channels)\n",
    "        self.relu2 = torch.nn.ReLU()\n",
    "\n",
    "    \n",
    "    def forward(self, x):\n",
    "        out = self.relu1(self.batch_norm1(self.conv1(x)))\n",
    "        out = self.conv2(out)\n",
    "        if self.in_channels < self.out_channels:\n",
    "            x = self.conv3(x)\n",
    "        out = torch.add(x, out)\n",
    "        out = self.relu2(self.batch_norm2(out))\n",
    "        return out\n",
    "\n",
    "\n",
    "clf = ConvNet(BaseBlock)\n",
    "\n",
    "# Dzielenie zbioru danych na treningowy i walidacyjny\n",
    "split_point = int(len(X) * 0.8)\n",
    "\n",
    "X_train = torch.Tensor(X[:split_point]).unsqueeze(1)\n",
    "y_train = torch.LongTensor(y[:split_point])\n",
    "\n",
    "X_valid = torch.Tensor(X[split_point:]).unsqueeze(1)\n",
    "y_valid = torch.LongTensor(y[split_point:])\n",
    "\n",
    "batch_size = 32 \n",
    "\n",
    "dataset = TensorDataset(X_train, y_train)\n",
    "data_loader = DataLoader(dataset, batch_size = batch_size, shuffle = True)\n",
    "\n",
    "valid_dataset = TensorDataset(X_valid, y_valid)\n",
    "valid_data_loader = DataLoader(valid_dataset, batch_size = batch_size)\n",
    "\n",
    "# Ustawienie kosztu i optimizera\n",
    "criterion = torch.nn.CrossEntropyLoss()\n",
    "optimizer = torch.optim.Adam(clf.parameters())\n",
    "\n",
    "# Pętla uczenia\n",
    "best_preds, best_score = None, 0.\n",
    "losses, scores = [], []\n",
    "epochs_number = 100 \n",
    "for epoch in trange(epochs_number):\n",
    "    running_loss = 0\n",
    "    clf.train()\n",
    "    for X, y in data_loader:\n",
    "        optimizer.zero_grad()\n",
    "\n",
    "        outputs = clf(X)\n",
    "        loss = criterion(outputs, y)\n",
    "        loss.backward()\n",
    "        optimizer.step()\n",
    "        \n",
    "        running_loss += loss.item()\n",
    "        \n",
    "    losses.append(running_loss)\n",
    "    \n",
    "    clf.eval()\n",
    "    preds = []\n",
    "    for X, _ in valid_data_loader:\n",
    "        out = clf(X)\n",
    "        preds.append(torch.softmax(out, dim = 1)[:, 1].detach().numpy())\n",
    "    preds = np.concatenate(preds, axis = 0)\n",
    "    \n",
    "    # Metryką testującą jest ROC AUC\n",
    "    score = roc_auc_score(y_valid.numpy(), preds)\n",
    "    scores.append(score)\n",
    "    print(score)\n",
    "    if score > best_score:\n",
    "        best_score = score\n",
    "        best_preds = preds\n",
    "        np.save('tmp_preds', best_preds)\n",
    "        # Model dający najlepszy wynik powinien być zapisany\n",
    "torch.save(clf.state_dict(), 'tmp_model.pt')"
   ]
  },
  {
   "cell_type": "code",
   "execution_count": 15,
   "metadata": {},
   "outputs": [
    {
     "data": {
      "image/png": "[encoded data removed]",
      "text/plain": [
       "<Figure size 432x288 with 1 Axes>"
      ]
     },
     "metadata": {
      "needs_background": "light"
     },
     "output_type": "display_data"
    },
    {
     "data": {
      "image/png": "[encoded data removed]",
      "text/plain": [
       "<Figure size 432x288 with 1 Axes>"
      ]
     },
     "metadata": {
      "needs_background": "light"
     },
     "output_type": "display_data"
    }
   ],
   "source": [
    "# Rysowanie lossu i AUC\n",
    "\n",
    "import matplotlib.pyplot as plt\n",
    "\n",
    "%matplotlib inline\n",
    "\n",
    "plt.plot(scores)\n",
    "plt.show()\n",
    "\n",
    "plt.plot(losses)\n",
    "plt.show()"
   ]
  },
  {
   "cell_type": "markdown",
   "metadata": {},
   "source": [
    "# Zapis Predykcji"
   ]
  },
  {
   "cell_type": "code",
   "execution_count": 16,
   "metadata": {},
   "outputs": [],
   "source": [
    "def save_predictions(preds):\n",
    "    '''Zapisuje predykcje do pliku zgodnego z formatem odpowiedzi.\n",
    "    \n",
    "    Args:\n",
    "        preds (list): Lista predykcji (prawdopodobieństw).\n",
    "    '''\n",
    "    with open('sampleSubmission.csv', 'r') as file:\n",
    "        submission_text = file.read().split()\n",
    "        header = submission_text[0]\n",
    "        lines = submission_text[1:]\n",
    "\n",
    "    output_lines = [header]\n",
    "    for pred, line in zip(preds, lines):\n",
    "        output_lines.append(\"{},{}\".format(line.split(',')[0], pred))\n",
    "    \n",
    "    with open('submission.csv', 'w') as file:\n",
    "        file.write('\\n'.join(output_lines) + '\\n')"
   ]
  },
  {
   "cell_type": "code",
   "execution_count": 17,
   "metadata": {},
   "outputs": [],
   "source": [
    "# Wczytanie najlepszego modelu\n",
    "clf.load_state_dict(torch.load('tmp_model.pt'))\n",
    "\n",
    "# Tworzenie data loadera testowego\n",
    "X_test_tensor = torch.Tensor(X_test).unsqueeze(1)\n",
    "\n",
    "test_dataset = TensorDataset(X_test_tensor)\n",
    "test_data_loader = DataLoader(test_dataset, batch_size = batch_size)\n",
    "\n",
    "# Ewaluacja modelu na danych testowych\n",
    "clf.eval()\n",
    "preds = []\n",
    "for X in test_data_loader:\n",
    "    out = clf(X[0])\n",
    "    preds.append(torch.softmax(out, dim = 1)[:, 1].detach().numpy())\n",
    "preds = np.concatenate(preds, axis = 0)\n"
   ]
  },
  {
   "cell_type": "code",
   "execution_count": 18,
   "metadata": {},
   "outputs": [],
   "source": [
    "\n",
    "\n",
    "# Zapisanie predykcji do poprawnego formatu\n",
    "save_predictions(preds)"
   ]
  },
  {
   "cell_type": "code",
   "execution_count": null,
   "metadata": {},
   "outputs": [],
   "source": []
  }
 ],
 "metadata": {
  "kernelspec": {
   "display_name": "Python 3",
   "language": "python",
   "name": "python3"
  },
  "language_info": {
   "codemirror_mode": {
    "name": "ipython",
    "version": 3
   },
   "file_extension": ".py",
   "mimetype": "text/x-python",
   "name": "python",
   "nbconvert_exporter": "python",
   "pygments_lexer": "ipython3",
   "version": "3.6.8"
  }
 },
 "nbformat": 4,
 "nbformat_minor": 1
}
