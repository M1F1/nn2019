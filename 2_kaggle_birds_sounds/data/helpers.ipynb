{
 "cells": [
  {
   "cell_type": "markdown",
   "metadata": {},
   "source": [
    "# Funkcje Pomocnicze do Zadania\n",
    "\n",
    "Aby wszystkie funkcje zadziałały, notebook powinien być uruchamiany z następującym ułożeniem katalogów:\n",
    "\n",
    "```\n",
    "|- helpers.ipynb\n",
    "|- sampleSubmission.csv\n",
    "|- train\n",
    " |- {unzipped train files and labels}\n",
    "|- test\n",
    " |- {unzipped test files}\n",
    "```\n",
    "\n",
    "Należy odkomentować u siebie linijki zapisujące pliki."
   ]
  },
  {
   "cell_type": "code",
   "execution_count": 5,
   "metadata": {
    "_cell_guid": "b1076dfc-b9ad-4769-8c92-a6c4dae69d19",
    "_uuid": "8f2839f25d086af736a60e9eeb907d3b93b6e0e5"
   },
   "outputs": [
    {
     "name": "stdout",
     "output_type": "stream",
     "text": [
      "Solving environment: - ^C\n",
      "failed\n",
      "\n",
      "CondaError: KeyboardInterrupt\n",
      "\n"
     ]
    }
   ],
   "source": [
    "!conda install -c conda-forge -y librosa"
   ]
  },
  {
   "cell_type": "code",
   "execution_count": 1,
   "metadata": {
    "_cell_guid": "79c7e3d0-c299-4dcb-8224-4455121ee9b0",
    "_uuid": "d629ff2d2480ee46fbb7e2d37f6b5fab8052498a"
   },
   "outputs": [],
   "source": [
    "import os\n",
    "\n",
    "import librosa\n",
    "from scipy import signal\n",
    "from scipy.io import wavfile\n",
    "from sklearn.metrics import roc_auc_score\n",
    "import numpy as np\n",
    "import torch\n",
    "from torch.utils.data import TensorDataset, DataLoader\n",
    "from tqdm import tqdm, trange"
   ]
  },
  {
   "cell_type": "markdown",
   "metadata": {},
   "source": [
    "# Wczytywanie Danych\n",
    "\n",
    "Poniższe funkcje są przykładowymi funkcjami wczytującymi dane. Możliwe, że będą potrzebne modyfikacje reprezentacji i bardziej skomplikowana funkcja tworząca zbiór treningowy. Wczytywanie danych nie jest zaimplementowane optymalnie - między innymi kod wczytuje wielokrotnie ten sam plik. Dla bardziej złożonych reprezentacji możliwe, że trzeba będzie przepisać te funkcje."
   ]
  },
  {
   "cell_type": "code",
   "execution_count": 774,
   "metadata": {},
   "outputs": [],
   "source": [
    "def load_mel(file_name, start=0, stop=None, n_mels=10):\n",
    "    '''Wczytuje mel spektrogram z pliku.\n",
    "    \n",
    "    Args:\n",
    "        file_name (str): Nazwa pliku z nagraniem.\n",
    "        start (float): Sekunda, w której zaczyna się interesujący fragment.\n",
    "        stop (float): Sekunda, w której kończy się interesujący fragment.\n",
    "        n_mels (int): Liczba meli na spektrogramie (wysokość spektrogramu).\n",
    "    \n",
    "    Returns:\n",
    "        ndarray: Spektrogram.\n",
    "    '''\n",
    "    samples, sample_rate = librosa.core.load(file_name, sr = None)\n",
    "    samples = samples[int(start * sample_rate):int(stop * sample_rate) if stop else None]\n",
    "    spectrogram = librosa.feature.melspectrogram(y = samples, sr = sample_rate,\n",
    "                                                 n_mels = n_mels, fmin = 6000, fmax = 8500)\n",
    "#     spectrogram = stats.boxcox(spectrogram, lmbda=0.043, alpha=0.000001)\n",
    "\n",
    "    mfccs = librosa.feature.mfcc(S=spectrogram, norm='ortho', dct_type=3)\n",
    "    return mfccs\n",
    "#     return spectrogram\n",
    "\n",
    "\n",
    "def load_spec(file_name, start=0, stop=None):\n",
    "    '''Wczytuje standardowy spektrogram z pliku.\n",
    "    \n",
    "    Args:\n",
    "        file_name (str): Nazwa pliku z nagraniem.\n",
    "        start (float): Sekunda, w której zaczyna się interesujący fragment.\n",
    "        stop (float): Sekunda, w której kończy się interesujący fragment.\n",
    "    \n",
    "    Returns:\n",
    "        ndarray: Spektrogram.\n",
    "    '''\n",
    "    sample_rate, samples = wavfile.read(file_name)\n",
    "    samples = samples[int(start * sample_rate):int(stop * sample_rate) if stop else None]\n",
    "    _, _, spectrogram = signal.spectrogram(samples, sample_rate)\n",
    "    return spectrogram\n",
    "\n",
    "\n",
    "def load_test(load_repr=load_mel):\n",
    "    '''Wczytuje dane testowe.\n",
    "    \n",
    "    Args:\n",
    "        load_repr (function): Funkcja wczytująca pożądaną reprezentację.\n",
    "    \n",
    "    Returns:\n",
    "        ndarray: Tablica z danymi testowymi.\n",
    "    '''\n",
    "    with open('sampleSubmission.csv', 'r') as file:\n",
    "        lines = file.read().split()[1:]\n",
    "        sample_ids = [line.split(',')[0] for line in lines]\n",
    "        samples = np.array([s.split('/') for s in sample_ids])\n",
    "    \n",
    "    X_test = []\n",
    "    rec_files = [file_name for file_name in os.listdir('test') if file_name.endswith('.wav')]\n",
    "    for file_name in rec_files:\n",
    "        recording_id = file_name.split('.')[0][3:]\n",
    "        time_markers = samples[samples[:, 0] == recording_id, 1].astype(np.int)\n",
    "        for t in time_markers:\n",
    "            representation = load_repr(os.path.join('test', file_name), start = t, stop = t + 1)\n",
    "            X_test.append(representation)\n",
    "    return np.array(X_test)\n",
    "\n",
    "\n",
    "def read_labels():\n",
    "    '''Wczytuje etykiety czasowe z pliku labels.txt w folderze train.\n",
    "    \n",
    "    Returns:\n",
    "        ndarray: Tablica z etykietami czasowymi zawierająca kolumny: nr nagrania, sekunda początku dźwięku, sekunda końca dźwięku.\n",
    "    '''\n",
    "    labels = []\n",
    "    with open(os.path.join('train', 'labels.txt'), 'r') as file:\n",
    "        text = file.read()\n",
    "        for line in text.split('\\n')[1:]:\n",
    "            if len(line) > 1:\n",
    "                rec, start, stop = line.split(',')\n",
    "                rec, start, stop = int(rec[3:]), float(start), float(stop)\n",
    "                labels.append([rec, start, stop])\n",
    "    return np.array(labels)\n",
    "\n",
    "\n",
    "def check_voices(second, labels, tol=0.):\n",
    "    '''Sprawdza czy w ramce czasowej [second, second+1] znajduje się głos według etykiet `labels`.\n",
    "    \n",
    "    Args:\n",
    "        second (float): Sekunda nagrania.\n",
    "        labels (ndarray): Tablica z etykietami, której 2 kolumna oznacza początek, a 3-cia - koniec nagrania.\n",
    "        tol (float): Tolerancja na brzegach fragmentu. Dźwięk, żeby był uznany, musi się kończyć po czasie `second+tol`\n",
    "            lub zaczynać przed czasem `second+1-tol`.\n",
    "    Returns:\n",
    "        bool: Czy w ramce czasowej jest odgłos ptaka.\n",
    "    '''\n",
    "    return (labels[1] >= second and labels[1] < second + 1 - tol) or \\\n",
    "           (labels[2] < second + 1 and labels[2] > second + tol) or \\\n",
    "           (labels[1] < second and labels[2] > second + 1)\n",
    "\n",
    "\n",
    "def map_seconds_to_y(labels):\n",
    "    '''Tworzy etykiety dla każdej kolejnej sekundy 10-sekundowego nagrania. -1 oznacza niepewną etykietę (urwane dźwięki na brzegach).\n",
    "    \n",
    "    Args:\n",
    "        labels (ndarray): Tablica z etykietami, której 2 kolumna oznacza początek, a 3-cia - koniec nagrania.\n",
    "    Returns:\n",
    "        ndarray: Tablica z binarnymi etykietami dla każdej z 10 sekund z możliwą niepewną etkietą -1.\n",
    "    '''\n",
    "    y = [0] * 10\n",
    "    y_restrictive = [0] * 10\n",
    "    for s in range(10):\n",
    "        for l in labels:\n",
    "            if check_voices(s, l):\n",
    "                y[s] = 1\n",
    "            if check_voices(s, l, 0.02):\n",
    "                y_restrictive[s] = 1\n",
    "        if y[s] != y_restrictive[s]:\n",
    "            y[s] = -1\n",
    "    return y\n",
    "\n",
    "\n",
    "def load_train(load_repr=load_mel):\n",
    "    '''Wczytuje dane treningowe.\n",
    "    \n",
    "    Args:\n",
    "        load_repr (function): Funkcja wczytująca pożądaną reprezentację.\n",
    "    \n",
    "    Returns:\n",
    "        (ndarray, ndarray): Tablica z danymi treningowymi, tablica z binarnymi etykietami treningowymi.\n",
    "    '''\n",
    "    labels = read_labels()\n",
    "    X_train, y_train = [], []\n",
    "    rec_files = [file_name for file_name in os.listdir('train') if file_name.endswith('.wav')]\n",
    "    print(rec_files)\n",
    "    for file_name in rec_files:\n",
    "        recording_id = int(file_name.split('.')[0][3:])\n",
    "        recording_labels = labels[labels[:, 0] == recording_id]\n",
    "        y_binary = map_seconds_to_y(recording_labels)\n",
    "        for i, y in enumerate(y_binary):\n",
    "            if y != -1:\n",
    "                try:\n",
    "                    representation = load_repr(os.path.join('train', file_name), start = i, stop = i + 1)\n",
    "                    X_train.append(representation)\n",
    "                    y_train.append(y)\n",
    "                except ValueError:\n",
    "                    print('Error reading file', file_name)\n",
    "                except TypeError:\n",
    "                    print('Unsupported type', file_name)\n",
    "    return np.array(X_train), np.array(y_train)"
   ]
  },
  {
   "cell_type": "markdown",
   "metadata": {},
   "source": [
    "# Zapisywanie Wczytanej Reprezentacji\n",
    "\n",
    "Ponieważ tworzenie reprezentacji może zabierać sporo czasu (szczególnie w tak naiwnej implementacji jak powyższa), warto zapisać wczytane dane do plików."
   ]
  },
  {
   "cell_type": "code",
   "execution_count": 731,
   "metadata": {
    "scrolled": false
   },
   "outputs": [
    {
     "name": "stdout",
     "output_type": "stream",
     "text": [
      "/home/michal/Studia/2_semester/nnSolutions/nn2019/2_kaggle_birds_sounds/data\n",
      "['helpers.ipynb', 'sampleSubmission.csv', 'train', 'tmp_model.pt', 'submission.csv', 'tmp_preds.npy', 'test', '.ipynb_checkpoints']\n"
     ]
    }
   ],
   "source": [
    "print(os.getcwd())\n",
    "print(os.listdir(\".\"))"
   ]
  },
  {
   "cell_type": "code",
   "execution_count": 732,
   "metadata": {},
   "outputs": [
    {
     "ename": "ModuleNotFoundError",
     "evalue": "No module named 'librosa.core.logamplitude'",
     "output_type": "error",
     "traceback": [
      "\u001b[0;31m---------------------------------------------------------------------------\u001b[0m",
      "\u001b[0;31mModuleNotFoundError\u001b[0m                       Traceback (most recent call last)",
      "\u001b[0;32m<ipython-input-732-04fb2328303c>\u001b[0m in \u001b[0;36m<module>\u001b[0;34m\u001b[0m\n\u001b[0;32m----> 1\u001b[0;31m \u001b[0;32mimport\u001b[0m \u001b[0mlibrosa\u001b[0m\u001b[0;34m.\u001b[0m\u001b[0mcore\u001b[0m\u001b[0;34m.\u001b[0m\u001b[0mlogamplitude\u001b[0m\u001b[0;34m\u001b[0m\u001b[0;34m\u001b[0m\u001b[0m\n\u001b[0m",
      "\u001b[0;31mModuleNotFoundError\u001b[0m: No module named 'librosa.core.logamplitude'"
     ]
    }
   ],
   "source": [
    "import librosa.core.logamplitude"
   ]
  },
  {
   "cell_type": "code",
   "execution_count": 775,
   "metadata": {
    "scrolled": false
   },
   "outputs": [
    {
     "data": {
      "text/plain": [
       "<matplotlib.axes._subplots.AxesSubplot at 0x7ffacc52b828>"
      ]
     },
     "execution_count": 775,
     "metadata": {},
     "output_type": "execute_result"
    },
    {
     "data": {
      "image/png": "[encoded data removed]",
      "text/plain": [
       "<Figure size 432x288 with 1 Axes>"
      ]
     },
     "metadata": {
      "needs_background": "light"
     },
     "output_type": "display_data"
    }
   ],
   "source": [
    "spec = load_mel(os.path.join(os.getcwd(), 'train','rec25.wav'),start=9, stop=10)\n",
    "# spec = librosa.power_to_db(spec,ref=5.0)\n",
    "librosa.display.specshow(spec, y_axis='mel', x_axis='time')"
   ]
  },
  {
   "cell_type": "code",
   "execution_count": 772,
   "metadata": {},
   "outputs": [],
   "source": [
    "mfccs = librosa.feature.mfcc(S=spec, norm='ortho', dct_type=3)"
   ]
  },
  {
   "cell_type": "code",
   "execution_count": 773,
   "metadata": {
    "scrolled": true
   },
   "outputs": [
    {
     "data": {
      "image/png": "[encoded data removed]",
      "text/plain": [
       "<Figure size 720x288 with 2 Axes>"
      ]
     },
     "metadata": {
      "needs_background": "light"
     },
     "output_type": "display_data"
    }
   ],
   "source": [
    "\n",
    "import matplotlib.pyplot as plt\n",
    "plt.figure(figsize=(10, 4))\n",
    "librosa.display.specshow(mfccs, x_axis='time')\n",
    "plt.colorbar()\n",
    "plt.title('MFCC')\n",
    "plt.tight_layout()"
   ]
  },
  {
   "cell_type": "code",
   "execution_count": 766,
   "metadata": {},
   "outputs": [
    {
     "data": {
      "text/plain": [
       "(10, 87)"
      ]
     },
     "execution_count": 766,
     "metadata": {},
     "output_type": "execute_result"
    }
   ],
   "source": [
    "mfccs.shape"
   ]
  },
  {
   "cell_type": "code",
   "execution_count": 476,
   "metadata": {},
   "outputs": [
    {
     "data": {
      "text/plain": [
       "(10, 87)"
      ]
     },
     "execution_count": 476,
     "metadata": {},
     "output_type": "execute_result"
    }
   ],
   "source": [
    "spec.shape"
   ]
  },
  {
   "cell_type": "code",
   "execution_count": 463,
   "metadata": {},
   "outputs": [
    {
     "data": {
      "text/plain": [
       "(10, 87)"
      ]
     },
     "execution_count": 463,
     "metadata": {},
     "output_type": "execute_result"
    }
   ],
   "source": [
    "spec.shape"
   ]
  },
  {
   "cell_type": "code",
   "execution_count": 776,
   "metadata": {},
   "outputs": [
    {
     "name": "stdout",
     "output_type": "stream",
     "text": [
      "['rec204.wav', 'rec170.wav', 'rec18.wav', 'rec78.wav', 'rec183.wav', 'rec103.wav', 'rec246.wav', 'rec8.wav', 'rec88.wav', 'rec297.wav', 'rec222.wav', 'rec107.wav', 'rec209.wav', 'rec79.wav', 'rec312.wav', 'rec343.wav', 'rec87.wav', 'rec101.wav', 'rec291.wav', 'rec256.wav', 'rec272.wav', 'rec173.wav', 'rec133.wav', 'rec307.wav', 'rec276.wav', 'rec38.wav', 'rec323.wav', 'rec146.wav', 'rec81.wav', 'rec161.wav', 'rec185.wav', 'rec194.wav', 'rec28.wav', 'rec213.wav', 'rec47.wav', 'rec310.wav', 'rec334.wav', 'rec330.wav', 'rec339.wav', 'rec110.wav', 'rec6.wav', 'rec255.wav', 'rec15.wav', 'rec325.wav', 'rec232.wav', 'rec214.wav', 'rec340.wav', 'rec50.wav', 'rec273.wav', 'rec122.wav', 'rec200.wav', 'rec207.wav', 'rec54.wav', 'rec148.wav', 'rec106.wav', 'rec201.wav', 'rec120.wav', 'rec187.wav', 'rec189.wav', 'rec42.wav', 'rec174.wav', 'rec98.wav', 'rec167.wav', 'rec338.wav', 'rec316.wav', 'rec13.wav', 'rec248.wav', 'rec196.wav', 'rec157.wav', 'rec190.wav', 'rec169.wav', 'rec218.wav', 'rec90.wav', 'rec231.wav', 'rec240.wav', 'rec260.wav', 'rec132.wav', 'rec181.wav', 'rec321.wav', 'rec136.wav', 'rec281.wav', 'rec76.wav', 'rec191.wav', 'rec128.wav', 'rec328.wav', 'rec332.wav', 'rec263.wav', 'rec151.wav', 'rec140.wav', 'rec152.wav', 'rec358.wav', 'rec327.wav', 'rec219.wav', 'rec166.wav', 'rec9.wav', 'rec292.wav', 'rec341.wav', 'rec302.wav', 'rec298.wav', 'rec96.wav', 'rec357.wav', 'rec58.wav', 'rec129.wav', 'rec72.wav', 'rec346.wav', 'rec278.wav', 'rec350.wav', 'rec243.wav', 'rec226.wav', 'rec287.wav', 'rec123.wav', 'rec234.wav', 'rec44.wav', 'rec68.wav', 'rec347.wav', 'rec345.wav', 'rec17.wav', 'rec59.wav', 'rec64.wav', 'rec93.wav', 'rec119.wav', 'rec229.wav', 'rec335.wav', 'rec21.wav', 'rec322.wav', 'rec199.wav', 'rec356.wav', 'rec203.wav', 'rec86.wav', 'rec348.wav', 'rec178.wav', 'rec349.wav', 'rec36.wav', 'rec182.wav', 'rec198.wav', 'rec22.wav', 'rec319.wav', 'rec158.wav', 'rec143.wav', 'rec89.wav', 'rec331.wav', 'rec121.wav', 'rec238.wav', 'rec206.wav', 'rec233.wav', 'rec352.wav', 'rec153.wav', 'rec329.wav', 'rec309.wav', 'rec215.wav', 'rec239.wav', 'rec109.wav', 'rec244.wav', 'rec220.wav', 'rec265.wav', 'rec25.wav', 'rec324.wav', 'rec2.wav', 'rec48.wav', 'rec317.wav', 'rec71.wav', 'rec237.wav', 'rec342.wav', 'rec186.wav', 'rec73.wav', 'rec127.wav', 'rec160.wav', 'rec162.wav', 'rec163.wav', 'rec208.wav', 'rec283.wav', 'rec267.wav', 'rec16.wav', 'rec57.wav', 'rec236.wav', 'rec4.wav', 'rec171.wav', 'rec55.wav', 'rec300.wav', 'rec150.wav', 'rec351.wav', 'rec138.wav', 'rec262.wav', 'rec299.wav', 'rec30.wav', 'rec113.wav', 'rec126.wav', 'rec5.wav', 'rec51.wav', 'rec197.wav', 'rec46.wav', 'rec176.wav', 'rec29.wav', 'rec286.wav', 'rec134.wav', 'rec225.wav', 'rec313.wav', 'rec45.wav', 'rec149.wav', 'rec39.wav', 'rec31.wav', 'rec184.wav', 'rec147.wav', 'rec67.wav', 'rec7.wav', 'rec131.wav', 'rec125.wav', 'rec66.wav', 'rec77.wav', 'rec253.wav', 'rec290.wav', 'rec49.wav', 'rec192.wav', 'rec230.wav', 'rec333.wav', 'rec34.wav', 'rec3.wav', 'rec83.wav', 'rec24.wav', 'rec40.wav', 'rec112.wav', 'rec37.wav', 'rec216.wav', 'rec251.wav', 'rec56.wav', 'rec247.wav', 'rec100.wav', 'rec62.wav', 'rec249.wav', 'rec144.wav', 'rec164.wav', 'rec224.wav', 'rec264.wav', 'rec258.wav', 'rec355.wav', 'rec180.wav', 'rec52.wav', 'rec10.wav', 'rec301.wav', 'rec275.wav', 'rec266.wav', 'rec211.wav', 'rec257.wav', 'rec315.wav', 'rec33.wav', 'rec142.wav', 'rec294.wav', 'rec271.wav', 'rec115.wav', 'rec293.wav', 'rec177.wav', 'rec85.wav', 'rec145.wav', 'rec195.wav', 'rec97.wav', 'rec252.wav', 'rec32.wav', 'rec75.wav', 'rec242.wav', 'rec326.wav', 'rec270.wav', 'rec289.wav', 'rec336.wav', 'rec61.wav', 'rec116.wav', 'rec285.wav', 'rec130.wav', 'rec124.wav', 'rec141.wav', 'rec69.wav', 'rec84.wav', 'rec245.wav', 'rec282.wav', 'rec41.wav', 'rec108.wav', 'rec337.wav', 'rec205.wav', 'rec210.wav', 'rec135.wav', 'rec306.wav', 'rec139.wav', 'rec344.wav', 'rec284.wav', 'rec92.wav', 'rec168.wav', 'rec111.wav', 'rec259.wav', 'rec159.wav', 'rec269.wav', 'rec35.wav', 'rec359.wav', 'rec11.wav', 'rec82.wav', 'rec117.wav', 'rec250.wav', 'rec304.wav', 'rec99.wav', 'rec154.wav', 'rec274.wav', 'rec12.wav', 'rec235.wav', 'rec23.wav', 'rec155.wav', 'rec1.wav', 'rec296.wav', 'rec241.wav', 'rec20.wav', 'rec175.wav', 'rec172.wav', 'rec95.wav', 'rec156.wav', 'rec311.wav', 'rec179.wav', 'rec114.wav', 'rec223.wav', 'rec221.wav', 'rec288.wav', 'rec217.wav', 'rec165.wav', 'rec280.wav', 'rec227.wav', 'rec354.wav', 'rec43.wav', 'rec91.wav', 'rec318.wav', 'rec268.wav', 'rec228.wav', 'rec295.wav', 'rec320.wav', 'rec60.wav', 'rec361.wav', 'rec193.wav', 'rec80.wav', 'rec277.wav', 'rec308.wav', 'rec188.wav', 'rec14.wav', 'rec261.wav', 'rec27.wav', 'rec104.wav', 'rec19.wav', 'rec303.wav', 'rec105.wav', 'rec254.wav', 'rec353.wav', 'rec63.wav', 'rec202.wav', 'rec102.wav', 'rec279.wav', 'rec305.wav', 'rec94.wav', 'rec118.wav', 'rec314.wav', 'rec53.wav', 'rec65.wav', 'rec212.wav', 'rec137.wav', 'rec26.wav', 'rec74.wav', 'rec70.wav', 'rec360.wav']\n"
     ]
    }
   ],
   "source": [
    "# Poniższa linijka ustawia folder główny\n",
    "# os.chdir('../input/')\n",
    "\n",
    "X_test = load_test()\n",
    "# np.save(os.path.join('test', 'tmp_X_test'), X_test)\n",
    "\n",
    "X, y = load_train()\n",
    "# np.save(os.path.join('train', 'tmp_X_train'), X)\n",
    "# np.save(os.path.join('train', 'tmp_y_train'), y)"
   ]
  },
  {
   "cell_type": "code",
   "execution_count": 777,
   "metadata": {},
   "outputs": [],
   "source": [
    "np.save(os.path.join('test', 'tmp_X_test'), X_test)\n",
    "np.save(os.path.join('train', 'tmp_X_train'), X)\n",
    "np.save(os.path.join('train', 'tmp_y_train'), y)"
   ]
  },
  {
   "cell_type": "code",
   "execution_count": 794,
   "metadata": {},
   "outputs": [],
   "source": [
    "X_test = np.load(os.path.join(os.getcwd(), 'test', 'tmp_X_test.npy'))\n",
    "X = np.load(os.path.join(os.getcwd(), 'train', 'tmp_X_train.npy'))\n",
    "y = np.load(os.path.join(os.getcwd(), 'train', 'tmp_y_train.npy'))"
   ]
  },
  {
   "cell_type": "code",
   "execution_count": 782,
   "metadata": {},
   "outputs": [
    {
     "data": {
      "text/plain": [
       "1"
      ]
     },
     "execution_count": 782,
     "metadata": {},
     "output_type": "execute_result"
    }
   ],
   "source": [
    "y[521]"
   ]
  },
  {
   "cell_type": "code",
   "execution_count": 780,
   "metadata": {},
   "outputs": [
    {
     "data": {
      "text/plain": [
       "(3589, 10, 87)"
      ]
     },
     "execution_count": 780,
     "metadata": {},
     "output_type": "execute_result"
    }
   ],
   "source": [
    "X.shape"
   ]
  },
  {
   "cell_type": "code",
   "execution_count": 783,
   "metadata": {},
   "outputs": [
    {
     "data": {
      "text/plain": [
       "<matplotlib.axes._subplots.AxesSubplot at 0x7ffacc35e588>"
      ]
     },
     "execution_count": 783,
     "metadata": {},
     "output_type": "execute_result"
    },
    {
     "data": {
      "image/png": "[encoded data removed]",
      "text/plain": [
       "<Figure size 432x288 with 1 Axes>"
      ]
     },
     "metadata": {
      "needs_background": "light"
     },
     "output_type": "display_data"
    }
   ],
   "source": [
    "librosa.display.specshow(X[521], y_axis='mel', x_axis='time')\n"
   ]
  },
  {
   "cell_type": "code",
   "execution_count": 767,
   "metadata": {},
   "outputs": [],
   "source": [
    "mfccs = librosa.feature.mfcc(S=librosa.power_to_db(X[120]), n_mfcc=20, dct_type=3)\n"
   ]
  },
  {
   "cell_type": "code",
   "execution_count": 768,
   "metadata": {},
   "outputs": [
    {
     "data": {
      "text/plain": [
       "(10, 87)"
      ]
     },
     "execution_count": 768,
     "metadata": {},
     "output_type": "execute_result"
    }
   ],
   "source": [
    "mfccs.shape"
   ]
  },
  {
   "cell_type": "code",
   "execution_count": 769,
   "metadata": {},
   "outputs": [
    {
     "data": {
      "image/png": "[encoded data removed]",
      "text/plain": [
       "<Figure size 720x288 with 2 Axes>"
      ]
     },
     "metadata": {
      "needs_background": "light"
     },
     "output_type": "display_data"
    }
   ],
   "source": [
    "import matplotlib.pyplot as plt\n",
    "plt.figure(figsize=(10, 4))\n",
    "librosa.display.specshow(mfccs, x_axis='time')\n",
    "plt.colorbar()\n",
    "plt.title('MFCC')\n",
    "plt.tight_layout()"
   ]
  },
  {
   "cell_type": "markdown",
   "metadata": {},
   "source": [
    "# Model i Trenowanie\n",
    "\n",
    "Poniższy przykład używa poprawnych metryk i zapisuje parametry modelu."
   ]
  },
  {
   "cell_type": "code",
   "execution_count": 550,
   "metadata": {},
   "outputs": [],
   "source": [
    "# class Detector(torch.nn.Module):\n",
    "    \n",
    "#     def __init__(self):\n",
    "#         super().__init__()\n",
    "#         self.linear = torch.nn.Linear(10 * 87, 2)\n",
    "    \n",
    "#     def forward(self, x):\n",
    "#         out = torch.flatten(x, start_dim = 1)\n",
    "#         out = self.linear(out)\n",
    "#         return out\n",
    "    \n",
    "# clf = Detector()"
   ]
  },
  {
   "cell_type": "code",
   "execution_count": 825,
   "metadata": {
    "scrolled": true
   },
   "outputs": [
    {
     "name": "stderr",
     "output_type": "stream",
     "text": [
      "\n",
      "\n",
      "\n",
      "\n",
      "\n",
      "  0%|          | 0/100 [00:00<?, ?it/s]\u001b[A\u001b[A\u001b[A\u001b[A\u001b[A\n",
      "\n",
      "\n",
      "\n",
      "\n",
      "  1%|          | 1/100 [00:00<01:16,  1.29it/s]\u001b[A\u001b[A\u001b[A\u001b[A\u001b[A"
     ]
    },
    {
     "name": "stdout",
     "output_type": "stream",
     "text": [
      "0.329291641723\n"
     ]
    },
    {
     "name": "stderr",
     "output_type": "stream",
     "text": [
      "\n",
      "\n",
      "\n",
      "\n",
      "\n",
      "  2%|▏         | 2/100 [00:01<01:16,  1.29it/s]\u001b[A\u001b[A\u001b[A\u001b[A\u001b[A"
     ]
    },
    {
     "name": "stdout",
     "output_type": "stream",
     "text": [
      "0.298389344178\n"
     ]
    },
    {
     "name": "stderr",
     "output_type": "stream",
     "text": [
      "\n",
      "\n",
      "\n",
      "\n",
      "\n",
      "  3%|▎         | 3/100 [00:02<01:15,  1.29it/s]\u001b[A\u001b[A\u001b[A\u001b[A\u001b[A"
     ]
    },
    {
     "name": "stdout",
     "output_type": "stream",
     "text": [
      "0.351398808909\n"
     ]
    },
    {
     "name": "stderr",
     "output_type": "stream",
     "text": [
      "\n",
      "\n",
      "\n",
      "\n",
      "\n",
      "  4%|▍         | 4/100 [00:03<01:12,  1.32it/s]\u001b[A\u001b[A\u001b[A\u001b[A\u001b[A"
     ]
    },
    {
     "name": "stdout",
     "output_type": "stream",
     "text": [
      "0.359590136862\n"
     ]
    },
    {
     "name": "stderr",
     "output_type": "stream",
     "text": [
      "\n",
      "\n",
      "\n",
      "\n",
      "\n",
      "  5%|▌         | 5/100 [00:03<01:11,  1.32it/s]\u001b[A\u001b[A\u001b[A\u001b[A\u001b[A"
     ]
    },
    {
     "name": "stdout",
     "output_type": "stream",
     "text": [
      "0.422988099416\n"
     ]
    },
    {
     "name": "stderr",
     "output_type": "stream",
     "text": [
      "\n",
      "\n",
      "\n",
      "\n",
      "\n",
      "  6%|▌         | 6/100 [00:04<01:14,  1.26it/s]\u001b[A\u001b[A\u001b[A\u001b[A\u001b[A"
     ]
    },
    {
     "name": "stdout",
     "output_type": "stream",
     "text": [
      "0.425054961501\n"
     ]
    },
    {
     "name": "stderr",
     "output_type": "stream",
     "text": [
      "\n",
      "\n",
      "\n",
      "\n",
      "\n",
      "  7%|▋         | 7/100 [00:05<01:15,  1.23it/s]\u001b[A\u001b[A\u001b[A\u001b[A\u001b[A"
     ]
    },
    {
     "name": "stdout",
     "output_type": "stream",
     "text": [
      "0.519138472019\n"
     ]
    },
    {
     "name": "stderr",
     "output_type": "stream",
     "text": [
      "\n",
      "\n",
      "\n",
      "\n",
      "\n",
      "  8%|▊         | 8/100 [00:06<01:16,  1.20it/s]\u001b[A\u001b[A\u001b[A\u001b[A\u001b[A"
     ]
    },
    {
     "name": "stdout",
     "output_type": "stream",
     "text": [
      "0.492971120699\n"
     ]
    },
    {
     "name": "stderr",
     "output_type": "stream",
     "text": [
      "\n",
      "\n",
      "\n",
      "\n",
      "\n",
      "  9%|▉         | 9/100 [00:07<01:16,  1.18it/s]\u001b[A\u001b[A\u001b[A\u001b[A\u001b[A"
     ]
    },
    {
     "name": "stdout",
     "output_type": "stream",
     "text": [
      "0.465234915261\n"
     ]
    },
    {
     "name": "stderr",
     "output_type": "stream",
     "text": [
      "\n",
      "\n",
      "\n",
      "\n",
      "\n",
      " 10%|█         | 10/100 [00:08<01:17,  1.16it/s]\u001b[A\u001b[A\u001b[A\u001b[A\u001b[A"
     ]
    },
    {
     "name": "stdout",
     "output_type": "stream",
     "text": [
      "0.570602305803\n"
     ]
    },
    {
     "name": "stderr",
     "output_type": "stream",
     "text": [
      "\n",
      "\n",
      "\n",
      "\n",
      "\n",
      " 11%|█         | 11/100 [00:09<01:16,  1.17it/s]\u001b[A\u001b[A\u001b[A\u001b[A\u001b[A"
     ]
    },
    {
     "name": "stdout",
     "output_type": "stream",
     "text": [
      "0.619883161654\n"
     ]
    },
    {
     "name": "stderr",
     "output_type": "stream",
     "text": [
      "\n",
      "\n",
      "\n",
      "\n",
      "\n",
      " 12%|█▏        | 12/100 [00:09<01:14,  1.19it/s]\u001b[A\u001b[A\u001b[A\u001b[A\u001b[A"
     ]
    },
    {
     "name": "stdout",
     "output_type": "stream",
     "text": [
      "0.629943954751\n"
     ]
    },
    {
     "name": "stderr",
     "output_type": "stream",
     "text": [
      "\n",
      "\n",
      "\n",
      "\n",
      "\n",
      " 13%|█▎        | 13/100 [00:10<01:13,  1.19it/s]\u001b[A\u001b[A\u001b[A\u001b[A\u001b[A"
     ]
    },
    {
     "name": "stdout",
     "output_type": "stream",
     "text": [
      "0.552737237578\n"
     ]
    },
    {
     "name": "stderr",
     "output_type": "stream",
     "text": [
      "\n",
      "\n",
      "\n",
      "\n",
      "\n",
      " 14%|█▍        | 14/100 [00:11<01:11,  1.20it/s]\u001b[A\u001b[A\u001b[A\u001b[A\u001b[A"
     ]
    },
    {
     "name": "stdout",
     "output_type": "stream",
     "text": [
      "0.712854540388\n"
     ]
    },
    {
     "name": "stderr",
     "output_type": "stream",
     "text": [
      "\n",
      "\n",
      "\n",
      "\n",
      "\n",
      " 15%|█▌        | 15/100 [00:12<01:10,  1.20it/s]\u001b[A\u001b[A\u001b[A\u001b[A\u001b[A"
     ]
    },
    {
     "name": "stdout",
     "output_type": "stream",
     "text": [
      "0.658143333402\n"
     ]
    },
    {
     "name": "stderr",
     "output_type": "stream",
     "text": [
      "\n",
      "\n",
      "\n",
      "\n",
      "\n",
      " 16%|█▌        | 16/100 [00:13<01:08,  1.23it/s]\u001b[A\u001b[A\u001b[A\u001b[A\u001b[A"
     ]
    },
    {
     "name": "stdout",
     "output_type": "stream",
     "text": [
      "0.642600582127\n"
     ]
    },
    {
     "name": "stderr",
     "output_type": "stream",
     "text": [
      "\n",
      "\n",
      "\n",
      "\n",
      "\n",
      " 17%|█▋        | 17/100 [00:13<01:06,  1.24it/s]\u001b[A\u001b[A\u001b[A\u001b[A\u001b[A"
     ]
    },
    {
     "name": "stdout",
     "output_type": "stream",
     "text": [
      "0.796672119811\n"
     ]
    },
    {
     "name": "stderr",
     "output_type": "stream",
     "text": [
      "\n",
      "\n",
      "\n",
      "\n",
      "\n",
      " 18%|█▊        | 18/100 [00:14<01:05,  1.24it/s]\u001b[A\u001b[A\u001b[A\u001b[A\u001b[A"
     ]
    },
    {
     "name": "stdout",
     "output_type": "stream",
     "text": [
      "0.583071857647\n"
     ]
    },
    {
     "name": "stderr",
     "output_type": "stream",
     "text": [
      "\n",
      "\n",
      "\n",
      "\n",
      "\n",
      " 19%|█▉        | 19/100 [00:15<01:04,  1.25it/s]\u001b[A\u001b[A\u001b[A\u001b[A\u001b[A"
     ]
    },
    {
     "name": "stdout",
     "output_type": "stream",
     "text": [
      "0.715658093017\n"
     ]
    },
    {
     "name": "stderr",
     "output_type": "stream",
     "text": [
      "\n",
      "\n",
      "\n",
      "\n",
      "\n",
      " 20%|██        | 20/100 [00:16<01:03,  1.26it/s]\u001b[A\u001b[A\u001b[A\u001b[A\u001b[A"
     ]
    },
    {
     "name": "stdout",
     "output_type": "stream",
     "text": [
      "0.604006254774\n"
     ]
    },
    {
     "name": "stderr",
     "output_type": "stream",
     "text": [
      "\n",
      "\n",
      "\n",
      "\n",
      "\n",
      " 21%|██        | 21/100 [00:17<01:07,  1.18it/s]\u001b[A\u001b[A\u001b[A\u001b[A\u001b[A"
     ]
    },
    {
     "name": "stdout",
     "output_type": "stream",
     "text": [
      "0.783923889932\n"
     ]
    },
    {
     "name": "stderr",
     "output_type": "stream",
     "text": [
      "\n",
      "\n",
      "\n",
      "\n",
      "\n",
      " 22%|██▏       | 22/100 [00:18<01:05,  1.19it/s]\u001b[A\u001b[A\u001b[A\u001b[A\u001b[A"
     ]
    },
    {
     "name": "stdout",
     "output_type": "stream",
     "text": [
      "0.693944429536\n"
     ]
    },
    {
     "name": "stderr",
     "output_type": "stream",
     "text": [
      "\n",
      "\n",
      "\n",
      "\n",
      "\n",
      " 23%|██▎       | 23/100 [00:18<01:04,  1.19it/s]\u001b[A\u001b[A\u001b[A\u001b[A\u001b[A"
     ]
    },
    {
     "name": "stdout",
     "output_type": "stream",
     "text": [
      "0.755601944553\n"
     ]
    },
    {
     "name": "stderr",
     "output_type": "stream",
     "text": [
      "\n",
      "\n",
      "\n",
      "\n",
      "\n",
      " 24%|██▍       | 24/100 [00:19<01:03,  1.19it/s]\u001b[A\u001b[A\u001b[A\u001b[A\u001b[A"
     ]
    },
    {
     "name": "stdout",
     "output_type": "stream",
     "text": [
      "0.817149794604\n"
     ]
    },
    {
     "name": "stderr",
     "output_type": "stream",
     "text": [
      "\n",
      "\n",
      "\n",
      "\n",
      "\n",
      " 25%|██▌       | 25/100 [00:20<01:03,  1.19it/s]\u001b[A\u001b[A\u001b[A\u001b[A\u001b[A"
     ]
    },
    {
     "name": "stdout",
     "output_type": "stream",
     "text": [
      "0.659979253969\n"
     ]
    },
    {
     "name": "stderr",
     "output_type": "stream",
     "text": [
      "\n",
      "\n",
      "\n",
      "\n",
      "\n",
      " 26%|██▌       | 26/100 [00:21<01:02,  1.19it/s]\u001b[A\u001b[A\u001b[A\u001b[A\u001b[A"
     ]
    },
    {
     "name": "stdout",
     "output_type": "stream",
     "text": [
      "0.699314142394\n"
     ]
    },
    {
     "name": "stderr",
     "output_type": "stream",
     "text": [
      "\n",
      "\n",
      "\n",
      "\n",
      "\n",
      " 27%|██▋       | 27/100 [00:22<01:01,  1.19it/s]\u001b[A\u001b[A\u001b[A\u001b[A\u001b[A"
     ]
    },
    {
     "name": "stdout",
     "output_type": "stream",
     "text": [
      "0.74348461078\n"
     ]
    },
    {
     "name": "stderr",
     "output_type": "stream",
     "text": [
      "\n",
      "\n",
      "\n",
      "\n",
      "\n",
      " 28%|██▊       | 28/100 [00:23<01:00,  1.19it/s]\u001b[A\u001b[A\u001b[A\u001b[A\u001b[A"
     ]
    },
    {
     "name": "stdout",
     "output_type": "stream",
     "text": [
      "0.729971306484\n"
     ]
    },
    {
     "name": "stderr",
     "output_type": "stream",
     "text": [
      "\n",
      "\n",
      "\n",
      "\n",
      "\n",
      " 29%|██▉       | 29/100 [00:23<00:59,  1.19it/s]\u001b[A\u001b[A\u001b[A\u001b[A\u001b[A"
     ]
    },
    {
     "name": "stdout",
     "output_type": "stream",
     "text": [
      "0.777617509238\n"
     ]
    },
    {
     "name": "stderr",
     "output_type": "stream",
     "text": [
      "\n",
      "\n",
      "\n",
      "\n",
      "\n",
      " 30%|███       | 30/100 [00:24<00:57,  1.22it/s]\u001b[A\u001b[A\u001b[A\u001b[A\u001b[A"
     ]
    },
    {
     "name": "stdout",
     "output_type": "stream",
     "text": [
      "0.747857017526\n"
     ]
    },
    {
     "name": "stderr",
     "output_type": "stream",
     "text": [
      "\n",
      "\n",
      "\n",
      "\n",
      "\n",
      " 31%|███       | 31/100 [00:25<00:57,  1.20it/s]\u001b[A\u001b[A\u001b[A\u001b[A\u001b[A"
     ]
    },
    {
     "name": "stdout",
     "output_type": "stream",
     "text": [
      "0.737561412382\n"
     ]
    },
    {
     "name": "stderr",
     "output_type": "stream",
     "text": [
      "\n",
      "\n",
      "\n",
      "\n",
      "\n",
      " 32%|███▏      | 32/100 [00:26<00:57,  1.19it/s]\u001b[A\u001b[A\u001b[A\u001b[A\u001b[A"
     ]
    },
    {
     "name": "stdout",
     "output_type": "stream",
     "text": [
      "0.784270947299\n"
     ]
    },
    {
     "name": "stderr",
     "output_type": "stream",
     "text": [
      "\n",
      "\n",
      "\n",
      "\n",
      "\n",
      " 33%|███▎      | 33/100 [00:27<00:55,  1.20it/s]\u001b[A\u001b[A\u001b[A\u001b[A\u001b[A"
     ]
    },
    {
     "name": "stdout",
     "output_type": "stream",
     "text": [
      "0.749282662098\n"
     ]
    },
    {
     "name": "stderr",
     "output_type": "stream",
     "text": [
      "\n",
      "\n",
      "\n",
      "\n",
      "\n",
      " 34%|███▍      | 34/100 [00:28<00:54,  1.20it/s]\u001b[A\u001b[A\u001b[A\u001b[A\u001b[A"
     ]
    },
    {
     "name": "stdout",
     "output_type": "stream",
     "text": [
      "0.791321759594\n"
     ]
    },
    {
     "name": "stderr",
     "output_type": "stream",
     "text": [
      "\n",
      "\n",
      "\n",
      "\n",
      "\n",
      " 35%|███▌      | 35/100 [00:28<00:53,  1.21it/s]\u001b[A\u001b[A\u001b[A\u001b[A\u001b[A"
     ]
    },
    {
     "name": "stdout",
     "output_type": "stream",
     "text": [
      "0.813934675805\n"
     ]
    },
    {
     "name": "stderr",
     "output_type": "stream",
     "text": [
      "\n",
      "\n",
      "\n",
      "\n",
      "\n",
      " 36%|███▌      | 36/100 [00:29<00:52,  1.22it/s]\u001b[A\u001b[A\u001b[A\u001b[A\u001b[A"
     ]
    },
    {
     "name": "stdout",
     "output_type": "stream",
     "text": [
      "0.716003860207\n"
     ]
    },
    {
     "name": "stderr",
     "output_type": "stream",
     "text": [
      "\n",
      "\n",
      "\n",
      "\n",
      "\n",
      " 37%|███▋      | 37/100 [00:30<00:51,  1.21it/s]\u001b[A\u001b[A\u001b[A\u001b[A\u001b[A"
     ]
    },
    {
     "name": "stdout",
     "output_type": "stream",
     "text": [
      "0.728679840225\n"
     ]
    },
    {
     "name": "stderr",
     "output_type": "stream",
     "text": [
      "\n",
      "\n",
      "\n",
      "\n",
      "\n",
      " 38%|███▊      | 38/100 [00:31<00:51,  1.21it/s]\u001b[A\u001b[A\u001b[A\u001b[A\u001b[A"
     ]
    },
    {
     "name": "stdout",
     "output_type": "stream",
     "text": [
      "0.70300146564\n"
     ]
    },
    {
     "name": "stderr",
     "output_type": "stream",
     "text": [
      "\n",
      "\n",
      "\n",
      "\n",
      "\n",
      " 39%|███▉      | 39/100 [00:32<00:50,  1.20it/s]\u001b[A\u001b[A\u001b[A\u001b[A\u001b[A"
     ]
    },
    {
     "name": "stdout",
     "output_type": "stream",
     "text": [
      "0.741551927007\n"
     ]
    },
    {
     "name": "stderr",
     "output_type": "stream",
     "text": [
      "\n",
      "\n",
      "\n",
      "\n",
      "\n",
      " 40%|████      | 40/100 [00:33<00:50,  1.19it/s]\u001b[A\u001b[A\u001b[A\u001b[A\u001b[A"
     ]
    },
    {
     "name": "stdout",
     "output_type": "stream",
     "text": [
      "0.809924808538\n"
     ]
    },
    {
     "name": "stderr",
     "output_type": "stream",
     "text": [
      "\n",
      "\n",
      "\n",
      "\n",
      "\n",
      " 41%|████      | 41/100 [00:33<00:48,  1.22it/s]\u001b[A\u001b[A\u001b[A\u001b[A\u001b[A"
     ]
    },
    {
     "name": "stdout",
     "output_type": "stream",
     "text": [
      "0.755371003034\n"
     ]
    },
    {
     "name": "stderr",
     "output_type": "stream",
     "text": [
      "\n",
      "\n",
      "\n",
      "\n",
      "\n",
      " 42%|████▏     | 42/100 [00:34<00:47,  1.21it/s]\u001b[A\u001b[A\u001b[A\u001b[A\u001b[A"
     ]
    },
    {
     "name": "stdout",
     "output_type": "stream",
     "text": [
      "0.731261482567\n"
     ]
    },
    {
     "name": "stderr",
     "output_type": "stream",
     "text": [
      "\n",
      "\n",
      "\n",
      "\n",
      "\n",
      " 43%|████▎     | 43/100 [00:35<00:46,  1.21it/s]\u001b[A\u001b[A\u001b[A\u001b[A\u001b[A"
     ]
    },
    {
     "name": "stdout",
     "output_type": "stream",
     "text": [
      "0.776058976529\n"
     ]
    },
    {
     "name": "stderr",
     "output_type": "stream",
     "text": [
      "\n",
      "\n",
      "\n",
      "\n",
      "\n",
      " 44%|████▍     | 44/100 [00:36<00:45,  1.24it/s]\u001b[A\u001b[A\u001b[A\u001b[A\u001b[A"
     ]
    },
    {
     "name": "stdout",
     "output_type": "stream",
     "text": [
      "0.780853270854\n"
     ]
    },
    {
     "name": "stderr",
     "output_type": "stream",
     "text": [
      "\n",
      "\n",
      "\n",
      "\n",
      "\n",
      " 45%|████▌     | 45/100 [00:37<00:44,  1.25it/s]\u001b[A\u001b[A\u001b[A\u001b[A\u001b[A"
     ]
    },
    {
     "name": "stdout",
     "output_type": "stream",
     "text": [
      "0.689494612225\n"
     ]
    },
    {
     "name": "stderr",
     "output_type": "stream",
     "text": [
      "\n",
      "\n",
      "\n",
      "\n",
      "\n",
      " 46%|████▌     | 46/100 [00:37<00:42,  1.27it/s]\u001b[A\u001b[A\u001b[A\u001b[A\u001b[A"
     ]
    },
    {
     "name": "stdout",
     "output_type": "stream",
     "text": [
      "0.779906281609\n"
     ]
    },
    {
     "name": "stderr",
     "output_type": "stream",
     "text": [
      "\n",
      "\n",
      "\n",
      "\n",
      "\n",
      " 47%|████▋     | 47/100 [00:38<00:41,  1.27it/s]\u001b[A\u001b[A\u001b[A\u001b[A\u001b[A"
     ]
    },
    {
     "name": "stdout",
     "output_type": "stream",
     "text": [
      "0.699325753979\n"
     ]
    },
    {
     "name": "stderr",
     "output_type": "stream",
     "text": [
      "\n",
      "\n",
      "\n",
      "\n",
      "\n",
      " 48%|████▊     | 48/100 [00:39<00:41,  1.25it/s]\u001b[A\u001b[A\u001b[A\u001b[A\u001b[A"
     ]
    },
    {
     "name": "stdout",
     "output_type": "stream",
     "text": [
      "0.793551183866\n"
     ]
    },
    {
     "name": "stderr",
     "output_type": "stream",
     "text": [
      "\n",
      "\n",
      "\n",
      "\n",
      "\n",
      " 49%|████▉     | 49/100 [00:40<00:40,  1.25it/s]\u001b[A\u001b[A\u001b[A\u001b[A\u001b[A"
     ]
    },
    {
     "name": "stdout",
     "output_type": "stream",
     "text": [
      "0.756628924716\n"
     ]
    },
    {
     "name": "stderr",
     "output_type": "stream",
     "text": [
      "\n",
      "\n",
      "\n",
      "\n",
      "\n",
      " 50%|█████     | 50/100 [00:41<00:40,  1.25it/s]\u001b[A\u001b[A\u001b[A\u001b[A\u001b[A"
     ]
    },
    {
     "name": "stdout",
     "output_type": "stream",
     "text": [
      "0.694039902566\n"
     ]
    },
    {
     "name": "stderr",
     "output_type": "stream",
     "text": [
      "\n",
      "\n",
      "\n",
      "\n",
      "\n",
      " 51%|█████     | 51/100 [00:41<00:39,  1.24it/s]\u001b[A\u001b[A\u001b[A\u001b[A\u001b[A"
     ]
    },
    {
     "name": "stdout",
     "output_type": "stream",
     "text": [
      "0.734799145387\n"
     ]
    },
    {
     "name": "stderr",
     "output_type": "stream",
     "text": [
      "\n",
      "\n",
      "\n",
      "\n",
      "\n",
      " 52%|█████▏    | 52/100 [00:42<00:39,  1.22it/s]\u001b[A\u001b[A\u001b[A\u001b[A\u001b[A"
     ]
    },
    {
     "name": "stdout",
     "output_type": "stream",
     "text": [
      "0.780450735916\n"
     ]
    },
    {
     "name": "stderr",
     "output_type": "stream",
     "text": [
      "\n",
      "\n",
      "\n",
      "\n",
      "\n",
      " 53%|█████▎    | 53/100 [00:43<00:41,  1.12it/s]\u001b[A\u001b[A\u001b[A\u001b[A\u001b[A"
     ]
    },
    {
     "name": "stdout",
     "output_type": "stream",
     "text": [
      "0.74218024276\n"
     ]
    },
    {
     "name": "stderr",
     "output_type": "stream",
     "text": [
      "\n",
      "\n",
      "\n",
      "\n",
      "\n",
      " 54%|█████▍    | 54/100 [00:44<00:40,  1.15it/s]\u001b[A\u001b[A\u001b[A\u001b[A\u001b[A"
     ]
    },
    {
     "name": "stdout",
     "output_type": "stream",
     "text": [
      "0.747060978882\n"
     ]
    },
    {
     "name": "stderr",
     "output_type": "stream",
     "text": [
      "\n",
      "\n",
      "\n",
      "\n",
      "\n",
      " 55%|█████▌    | 55/100 [00:45<00:37,  1.19it/s]\u001b[A\u001b[A\u001b[A\u001b[A\u001b[A"
     ]
    },
    {
     "name": "stdout",
     "output_type": "stream",
     "text": [
      "0.791107590364\n"
     ]
    },
    {
     "name": "stderr",
     "output_type": "stream",
     "text": [
      "\n",
      "\n",
      "\n",
      "\n",
      "\n",
      " 56%|█████▌    | 56/100 [00:46<00:34,  1.26it/s]\u001b[A\u001b[A\u001b[A\u001b[A\u001b[A"
     ]
    },
    {
     "name": "stdout",
     "output_type": "stream",
     "text": [
      "0.721789009764\n"
     ]
    },
    {
     "name": "stderr",
     "output_type": "stream",
     "text": [
      "\n",
      "\n",
      "\n",
      "\n",
      "\n",
      " 57%|█████▋    | 57/100 [00:46<00:32,  1.33it/s]\u001b[A\u001b[A\u001b[A\u001b[A\u001b[A"
     ]
    },
    {
     "name": "stdout",
     "output_type": "stream",
     "text": [
      "0.809448733563\n"
     ]
    },
    {
     "name": "stderr",
     "output_type": "stream",
     "text": [
      "\n",
      "\n",
      "\n",
      "\n",
      "\n",
      " 58%|█████▊    | 58/100 [00:47<00:30,  1.39it/s]\u001b[A\u001b[A\u001b[A\u001b[A\u001b[A"
     ]
    },
    {
     "name": "stdout",
     "output_type": "stream",
     "text": [
      "0.766809704188\n"
     ]
    },
    {
     "name": "stderr",
     "output_type": "stream",
     "text": [
      "\n",
      "\n",
      "\n",
      "\n",
      "\n",
      " 59%|█████▉    | 59/100 [00:48<00:28,  1.42it/s]\u001b[A\u001b[A\u001b[A\u001b[A\u001b[A"
     ]
    },
    {
     "name": "stdout",
     "output_type": "stream",
     "text": [
      "0.811536238466\n"
     ]
    },
    {
     "name": "stderr",
     "output_type": "stream",
     "text": [
      "\n",
      "\n",
      "\n",
      "\n",
      "\n",
      " 60%|██████    | 60/100 [00:48<00:30,  1.32it/s]\u001b[A\u001b[A\u001b[A\u001b[A\u001b[A"
     ]
    },
    {
     "name": "stdout",
     "output_type": "stream",
     "text": [
      "0.784107094936\n"
     ]
    },
    {
     "name": "stderr",
     "output_type": "stream",
     "text": [
      "\n",
      "\n",
      "\n",
      "\n",
      "\n",
      " 61%|██████    | 61/100 [00:49<00:29,  1.34it/s]\u001b[A\u001b[A\u001b[A\u001b[A\u001b[A"
     ]
    },
    {
     "name": "stdout",
     "output_type": "stream",
     "text": [
      "0.823825165659\n"
     ]
    },
    {
     "name": "stderr",
     "output_type": "stream",
     "text": [
      "\n",
      "\n",
      "\n",
      "\n",
      "\n",
      " 62%|██████▏   | 62/100 [00:50<00:29,  1.28it/s]\u001b[A\u001b[A\u001b[A\u001b[A\u001b[A"
     ]
    },
    {
     "name": "stdout",
     "output_type": "stream",
     "text": [
      "0.721574840534\n"
     ]
    },
    {
     "name": "stderr",
     "output_type": "stream",
     "text": [
      "\n",
      "\n",
      "\n",
      "\n",
      "\n",
      " 63%|██████▎   | 63/100 [00:51<00:29,  1.24it/s]\u001b[A\u001b[A\u001b[A\u001b[A\u001b[A"
     ]
    },
    {
     "name": "stdout",
     "output_type": "stream",
     "text": [
      "0.792662252544\n"
     ]
    },
    {
     "name": "stderr",
     "output_type": "stream",
     "text": [
      "\n",
      "\n",
      "\n",
      "\n",
      "\n",
      " 64%|██████▍   | 64/100 [00:52<00:29,  1.20it/s]\u001b[A\u001b[A\u001b[A\u001b[A\u001b[A"
     ]
    },
    {
     "name": "stdout",
     "output_type": "stream",
     "text": [
      "0.799555663357\n"
     ]
    },
    {
     "name": "stderr",
     "output_type": "stream",
     "text": [
      "\n",
      "\n",
      "\n",
      "\n",
      "\n",
      " 65%|██████▌   | 65/100 [00:53<00:29,  1.20it/s]\u001b[A\u001b[A\u001b[A\u001b[A\u001b[A"
     ]
    },
    {
     "name": "stdout",
     "output_type": "stream",
     "text": [
      "0.797261730281\n"
     ]
    },
    {
     "name": "stderr",
     "output_type": "stream",
     "text": [
      "\n",
      "\n",
      "\n",
      "\n",
      "\n",
      " 66%|██████▌   | 66/100 [00:53<00:28,  1.19it/s]\u001b[A\u001b[A\u001b[A\u001b[A\u001b[A"
     ]
    },
    {
     "name": "stdout",
     "output_type": "stream",
     "text": [
      "0.710374821956\n"
     ]
    },
    {
     "name": "stderr",
     "output_type": "stream",
     "text": [
      "\n",
      "\n",
      "\n",
      "\n",
      "\n",
      " 67%|██████▋   | 67/100 [00:54<00:28,  1.17it/s]\u001b[A\u001b[A\u001b[A\u001b[A\u001b[A"
     ]
    },
    {
     "name": "stdout",
     "output_type": "stream",
     "text": [
      "0.732160735297\n"
     ]
    },
    {
     "name": "stderr",
     "output_type": "stream",
     "text": [
      "\n",
      "\n",
      "\n",
      "\n",
      "\n",
      " 68%|██████▊   | 68/100 [00:55<00:26,  1.20it/s]\u001b[A\u001b[A\u001b[A\u001b[A\u001b[A"
     ]
    },
    {
     "name": "stdout",
     "output_type": "stream",
     "text": [
      "0.726294304647\n"
     ]
    },
    {
     "name": "stderr",
     "output_type": "stream",
     "text": [
      "\n",
      "\n",
      "\n",
      "\n",
      "\n",
      " 69%|██████▉   | 69/100 [00:56<00:25,  1.21it/s]\u001b[A\u001b[A\u001b[A\u001b[A\u001b[A"
     ]
    },
    {
     "name": "stdout",
     "output_type": "stream",
     "text": [
      "0.803422321078\n"
     ]
    },
    {
     "name": "stderr",
     "output_type": "stream",
     "text": [
      "\n",
      "\n",
      "\n",
      "\n",
      "\n",
      " 70%|███████   | 70/100 [00:57<00:24,  1.23it/s]\u001b[A\u001b[A\u001b[A\u001b[A\u001b[A"
     ]
    },
    {
     "name": "stdout",
     "output_type": "stream",
     "text": [
      "0.810222839213\n"
     ]
    },
    {
     "name": "stderr",
     "output_type": "stream",
     "text": [
      "\n",
      "\n",
      "\n",
      "\n",
      "\n",
      " 71%|███████   | 71/100 [00:58<00:23,  1.23it/s]\u001b[A\u001b[A\u001b[A\u001b[A\u001b[A"
     ]
    },
    {
     "name": "stdout",
     "output_type": "stream",
     "text": [
      "0.762961108932\n"
     ]
    },
    {
     "name": "stderr",
     "output_type": "stream",
     "text": [
      "\n",
      "\n",
      "\n",
      "\n",
      "\n",
      " 72%|███████▏  | 72/100 [00:58<00:23,  1.19it/s]\u001b[A\u001b[A\u001b[A\u001b[A\u001b[A"
     ]
    },
    {
     "name": "stdout",
     "output_type": "stream",
     "text": [
      "0.759717606259\n"
     ]
    },
    {
     "name": "stderr",
     "output_type": "stream",
     "text": [
      "\n",
      "\n",
      "\n",
      "\n",
      "\n",
      " 73%|███████▎  | 73/100 [00:59<00:22,  1.20it/s]\u001b[A\u001b[A\u001b[A\u001b[A\u001b[A"
     ]
    },
    {
     "name": "stdout",
     "output_type": "stream",
     "text": [
      "0.813765662738\n"
     ]
    },
    {
     "name": "stderr",
     "output_type": "stream",
     "text": [
      "\n",
      "\n",
      "\n",
      "\n",
      "\n",
      " 74%|███████▍  | 74/100 [01:00<00:21,  1.21it/s]\u001b[A\u001b[A\u001b[A\u001b[A\u001b[A"
     ]
    },
    {
     "name": "stdout",
     "output_type": "stream",
     "text": [
      "0.808564962946\n"
     ]
    },
    {
     "name": "stderr",
     "output_type": "stream",
     "text": [
      "\n",
      "\n",
      "\n",
      "\n",
      "\n",
      " 75%|███████▌  | 75/100 [01:01<00:20,  1.22it/s]\u001b[A\u001b[A\u001b[A\u001b[A\u001b[A"
     ]
    },
    {
     "name": "stdout",
     "output_type": "stream",
     "text": [
      "0.778444512107\n"
     ]
    },
    {
     "name": "stderr",
     "output_type": "stream",
     "text": [
      "\n",
      "\n",
      "\n",
      "\n",
      "\n",
      " 76%|███████▌  | 76/100 [01:02<00:19,  1.24it/s]\u001b[A\u001b[A\u001b[A\u001b[A\u001b[A"
     ]
    },
    {
     "name": "stdout",
     "output_type": "stream",
     "text": [
      "0.81544805235\n"
     ]
    },
    {
     "name": "stderr",
     "output_type": "stream",
     "text": [
      "\n",
      "\n",
      "\n",
      "\n",
      "\n",
      " 77%|███████▋  | 77/100 [01:02<00:18,  1.25it/s]\u001b[A\u001b[A\u001b[A\u001b[A\u001b[A"
     ]
    },
    {
     "name": "stdout",
     "output_type": "stream",
     "text": [
      "0.797843599694\n"
     ]
    },
    {
     "name": "stderr",
     "output_type": "stream",
     "text": [
      "\n",
      "\n",
      "\n",
      "\n",
      "\n",
      " 78%|███████▊  | 78/100 [01:03<00:18,  1.22it/s]\u001b[A\u001b[A\u001b[A\u001b[A\u001b[A"
     ]
    },
    {
     "name": "stdout",
     "output_type": "stream",
     "text": [
      "0.659805080197\n"
     ]
    },
    {
     "name": "stderr",
     "output_type": "stream",
     "text": [
      "\n",
      "\n",
      "\n",
      "\n",
      "\n",
      " 79%|███████▉  | 79/100 [01:04<00:17,  1.21it/s]\u001b[A\u001b[A\u001b[A\u001b[A\u001b[A"
     ]
    },
    {
     "name": "stdout",
     "output_type": "stream",
     "text": [
      "0.754369826394\n"
     ]
    },
    {
     "name": "stderr",
     "output_type": "stream",
     "text": [
      "\n",
      "\n",
      "\n",
      "\n",
      "\n",
      " 80%|████████  | 80/100 [01:05<00:16,  1.21it/s]\u001b[A\u001b[A\u001b[A\u001b[A\u001b[A"
     ]
    },
    {
     "name": "stdout",
     "output_type": "stream",
     "text": [
      "0.780769409409\n"
     ]
    },
    {
     "name": "stderr",
     "output_type": "stream",
     "text": [
      "\n",
      "\n",
      "\n",
      "\n",
      "\n",
      " 81%|████████  | 81/100 [01:06<00:15,  1.21it/s]\u001b[A\u001b[A\u001b[A\u001b[A\u001b[A"
     ]
    },
    {
     "name": "stdout",
     "output_type": "stream",
     "text": [
      "0.710220000826\n"
     ]
    },
    {
     "name": "stderr",
     "output_type": "stream",
     "text": [
      "\n",
      "\n",
      "\n",
      "\n",
      "\n",
      " 82%|████████▏ | 82/100 [01:07<00:14,  1.23it/s]\u001b[A\u001b[A\u001b[A\u001b[A\u001b[A"
     ]
    },
    {
     "name": "stdout",
     "output_type": "stream",
     "text": [
      "0.756559255207\n"
     ]
    },
    {
     "name": "stderr",
     "output_type": "stream",
     "text": [
      "\n",
      "\n",
      "\n",
      "\n",
      "\n",
      " 83%|████████▎ | 83/100 [01:07<00:13,  1.25it/s]\u001b[A\u001b[A\u001b[A\u001b[A\u001b[A"
     ]
    },
    {
     "name": "stdout",
     "output_type": "stream",
     "text": [
      "0.830971450984\n"
     ]
    },
    {
     "name": "stderr",
     "output_type": "stream",
     "text": [
      "\n",
      "\n",
      "\n",
      "\n",
      "\n",
      " 84%|████████▍ | 84/100 [01:08<00:12,  1.24it/s]\u001b[A\u001b[A\u001b[A\u001b[A\u001b[A"
     ]
    },
    {
     "name": "stdout",
     "output_type": "stream",
     "text": [
      "0.801999256859\n"
     ]
    },
    {
     "name": "stderr",
     "output_type": "stream",
     "text": [
      "\n",
      "\n",
      "\n",
      "\n",
      "\n",
      " 85%|████████▌ | 85/100 [01:09<00:12,  1.22it/s]\u001b[A\u001b[A\u001b[A\u001b[A\u001b[A"
     ]
    },
    {
     "name": "stdout",
     "output_type": "stream",
     "text": [
      "0.789012344405\n"
     ]
    },
    {
     "name": "stderr",
     "output_type": "stream",
     "text": [
      "\n",
      "\n",
      "\n",
      "\n",
      "\n",
      " 86%|████████▌ | 86/100 [01:10<00:11,  1.20it/s]\u001b[A\u001b[A\u001b[A\u001b[A\u001b[A"
     ]
    },
    {
     "name": "stdout",
     "output_type": "stream",
     "text": [
      "0.782775633218\n"
     ]
    },
    {
     "name": "stderr",
     "output_type": "stream",
     "text": [
      "\n",
      "\n",
      "\n",
      "\n",
      "\n",
      " 87%|████████▋ | 87/100 [01:11<00:11,  1.18it/s]\u001b[A\u001b[A\u001b[A\u001b[A\u001b[A"
     ]
    },
    {
     "name": "stdout",
     "output_type": "stream",
     "text": [
      "0.82285624342\n"
     ]
    },
    {
     "name": "stderr",
     "output_type": "stream",
     "text": [
      "\n",
      "\n",
      "\n",
      "\n",
      "\n",
      " 88%|████████▊ | 88/100 [01:12<00:10,  1.18it/s]\u001b[A\u001b[A\u001b[A\u001b[A\u001b[A"
     ]
    },
    {
     "name": "stdout",
     "output_type": "stream",
     "text": [
      "0.825788813657\n"
     ]
    },
    {
     "name": "stderr",
     "output_type": "stream",
     "text": [
      "\n",
      "\n",
      "\n",
      "\n",
      "\n",
      " 89%|████████▉ | 89/100 [01:12<00:09,  1.19it/s]\u001b[A\u001b[A\u001b[A\u001b[A\u001b[A"
     ]
    },
    {
     "name": "stdout",
     "output_type": "stream",
     "text": [
      "0.773504427884\n"
     ]
    },
    {
     "name": "stderr",
     "output_type": "stream",
     "text": [
      "\n",
      "\n",
      "\n",
      "\n",
      "\n",
      " 90%|█████████ | 90/100 [01:13<00:08,  1.22it/s]\u001b[A\u001b[A\u001b[A\u001b[A\u001b[A"
     ]
    },
    {
     "name": "stdout",
     "output_type": "stream",
     "text": [
      "0.811131123176\n"
     ]
    },
    {
     "name": "stderr",
     "output_type": "stream",
     "text": [
      "\n",
      "\n",
      "\n",
      "\n",
      "\n",
      " 91%|█████████ | 91/100 [01:14<00:07,  1.24it/s]\u001b[A\u001b[A\u001b[A\u001b[A\u001b[A"
     ]
    },
    {
     "name": "stdout",
     "output_type": "stream",
     "text": [
      "0.806440042937\n"
     ]
    },
    {
     "name": "stderr",
     "output_type": "stream",
     "text": [
      "\n",
      "\n",
      "\n",
      "\n",
      "\n",
      " 92%|█████████▏| 92/100 [01:15<00:06,  1.25it/s]\u001b[A\u001b[A\u001b[A\u001b[A\u001b[A"
     ]
    },
    {
     "name": "stdout",
     "output_type": "stream",
     "text": [
      "0.790795367752\n"
     ]
    },
    {
     "name": "stderr",
     "output_type": "stream",
     "text": [
      "\n",
      "\n",
      "\n",
      "\n",
      "\n",
      " 93%|█████████▎| 93/100 [01:16<00:05,  1.25it/s]\u001b[A\u001b[A\u001b[A\u001b[A\u001b[A"
     ]
    },
    {
     "name": "stdout",
     "output_type": "stream",
     "text": [
      "0.800275581611\n"
     ]
    },
    {
     "name": "stderr",
     "output_type": "stream",
     "text": [
      "\n",
      "\n",
      "\n",
      "\n",
      "\n",
      " 94%|█████████▍| 94/100 [01:16<00:04,  1.26it/s]\u001b[A\u001b[A\u001b[A\u001b[A\u001b[A"
     ]
    },
    {
     "name": "stdout",
     "output_type": "stream",
     "text": [
      "0.759371839069\n"
     ]
    },
    {
     "name": "stderr",
     "output_type": "stream",
     "text": [
      "\n",
      "\n",
      "\n",
      "\n",
      "\n",
      " 95%|█████████▌| 95/100 [01:17<00:03,  1.27it/s]\u001b[A\u001b[A\u001b[A\u001b[A\u001b[A"
     ]
    },
    {
     "name": "stdout",
     "output_type": "stream",
     "text": [
      "0.820251377908\n"
     ]
    },
    {
     "name": "stderr",
     "output_type": "stream",
     "text": [
      "\n",
      "\n",
      "\n",
      "\n",
      "\n",
      " 96%|█████████▌| 96/100 [01:18<00:03,  1.26it/s]\u001b[A\u001b[A\u001b[A\u001b[A\u001b[A"
     ]
    },
    {
     "name": "stdout",
     "output_type": "stream",
     "text": [
      "0.731436946514\n"
     ]
    },
    {
     "name": "stderr",
     "output_type": "stream",
     "text": [
      "\n",
      "\n",
      "\n",
      "\n",
      "\n",
      " 97%|█████████▋| 97/100 [01:19<00:02,  1.27it/s]\u001b[A\u001b[A\u001b[A\u001b[A\u001b[A"
     ]
    },
    {
     "name": "stdout",
     "output_type": "stream",
     "text": [
      "0.809346809653\n"
     ]
    },
    {
     "name": "stderr",
     "output_type": "stream",
     "text": [
      "\n",
      "\n",
      "\n",
      "\n",
      "\n",
      " 98%|█████████▊| 98/100 [01:19<00:01,  1.27it/s]\u001b[A\u001b[A\u001b[A\u001b[A\u001b[A"
     ]
    },
    {
     "name": "stdout",
     "output_type": "stream",
     "text": [
      "0.809815143571\n"
     ]
    },
    {
     "name": "stderr",
     "output_type": "stream",
     "text": [
      "\n",
      "\n",
      "\n",
      "\n",
      "\n",
      " 99%|█████████▉| 99/100 [01:20<00:00,  1.28it/s]\u001b[A\u001b[A\u001b[A\u001b[A\u001b[A"
     ]
    },
    {
     "name": "stdout",
     "output_type": "stream",
     "text": [
      "0.77904960469\n"
     ]
    },
    {
     "name": "stderr",
     "output_type": "stream",
     "text": [
      "\n",
      "\n",
      "\n",
      "\n",
      "\n",
      "100%|██████████| 100/100 [01:21<00:00,  1.28it/s]\u001b[A\u001b[A\u001b[A\u001b[A\u001b[A"
     ]
    },
    {
     "name": "stdout",
     "output_type": "stream",
     "text": [
      "0.803777119501\n"
     ]
    }
   ],
   "source": [
    "\n",
    "X_test = np.load(os.path.join(os.getcwd(), 'test', 'tmp_X_test.npy'))\n",
    "X = np.load(os.path.join(os.getcwd(), 'train', 'tmp_X_train.npy'))\n",
    "y = np.load(os.path.join(os.getcwd(), 'train', 'tmp_y_train.npy'))\n",
    "\n",
    "import torch\n",
    "class ConvNet(torch.nn.Module):\n",
    "    \n",
    "    def __init__(self, block):\n",
    "        super(ConvNet, self).__init__()\n",
    "        \n",
    "        # wstępna warstwa konwolucyjna + ReLU\n",
    "        self.conv = torch.nn.Conv2d(1, 8, kernel_size=(1,10))\n",
    "        self.relu = torch.nn.ReLU()\n",
    "        self.batch_norm1 = torch.nn.BatchNorm2d(8)\n",
    "        \n",
    "        # (mikroarchitektura + max pooling) x 2\n",
    "#         self.block1 = block(16, 32)\n",
    "#         self.pool1 = torch.nn.MaxPool2d((1,10))\n",
    "#         self.block2 = block(32, 64)\n",
    "        self.pool2 = torch.nn.MaxPool2d((1,10))\n",
    "        \n",
    "        # warstwa w pełni połączona po \"rozprostowaniu\" obrazu do postaci wektora\n",
    "        self.dense = torch.nn.Linear(560, 2)\n",
    "    \n",
    "    def forward(self, x):\n",
    "        log = False \n",
    "        if log:\n",
    "            print(x.shape)\n",
    "        out = self.relu(self.batch_norm1(self.conv(x)))\n",
    "        if log:\n",
    "            print(out.shape)\n",
    "#         out = self.block1(out)\n",
    "#         if log:\n",
    "#             print(out.shape)\n",
    "#         out = self.pool1(out)\n",
    "#         if log:\n",
    "#             print(out.shape)\n",
    "#         out = self.block2(out)\n",
    "#         if log:\n",
    "#             print(out.shape)\n",
    "        out = self.pool2(out)\n",
    "        if log:\n",
    "            print(out.shape)\n",
    "        out = out.view(out.size(0), -1)\n",
    "        \n",
    "        if log:\n",
    "            print(out.shape)\n",
    "        return self.dense(out)\n",
    "    \n",
    "class BaseBlock(torch.nn.Module):\n",
    "    \n",
    "    def __init__(self, in_channels, out_channels, hidden_channels=None):\n",
    "        super(BaseBlock, self).__init__()\n",
    "        if not hidden_channels:\n",
    "            hidden_channels = out_channels\n",
    "\n",
    "        # konwolucja zawiera padding=1, aby nie zmniejszać rozmiaru obrazu\n",
    "        self.conv1 = torch.nn.Conv2d(in_channels, hidden_channels, kernel_size=(1,10))\n",
    "        # istnieje wersja batch normalization dla obrazów - statystyki dla filtrów\n",
    "        self.batch_norm1 = torch.nn.BatchNorm2d(hidden_channels)\n",
    "        # nieliniowość ReLU\n",
    "        self.relu1 = torch.nn.ReLU()\n",
    "\n",
    "        # drugi raz te same warstwy\n",
    "        self.conv2 = torch.nn.Conv2d(hidden_channels, out_channels, kernel_size=(2,2))\n",
    "        self.batch_norm2 = torch.nn.BatchNorm2d(out_channels)\n",
    "        self.relu2 = torch.nn.ReLU()\n",
    "\n",
    "    def forward(self, x):\n",
    "        out = self.relu1(self.batch_norm1(self.conv1(x)))\n",
    "        out = self.relu2(self.batch_norm2(self.conv2(out)))\n",
    "        return out   \n",
    "\n",
    "class ResNetBlock(torch.nn.Module):\n",
    "    \n",
    "    def __init__(self, in_channels, out_channels, hidden_channels=None):\n",
    "        super(ResNetBlock, self).__init__()\n",
    "        if not hidden_channels:\n",
    "            hidden_channels = out_channels\n",
    "        self.in_channels = in_channels\n",
    "        self.out_channels = out_channels\n",
    "        self.conv1 = torch.nn.Conv2d(in_channels, hidden_channels, kernel_size=3, padding=1)\n",
    "        self.batch_norm1 = torch.nn.BatchNorm2d(hidden_channels) \n",
    "        self.relu1 = torch.nn.ReLU()\n",
    "        self.conv2 = torch.nn.Conv2d(hidden_channels, out_channels, kernel_size=3, padding=1)\n",
    "        self.conv3 = torch.nn.Conv2d(in_channels, out_channels, kernel_size=1)\n",
    "        self.batch_norm2 = torch.nn.BatchNorm2d(out_channels)\n",
    "        self.relu2 = torch.nn.ReLU()\n",
    "\n",
    "    \n",
    "    def forward(self, x):\n",
    "        out = self.relu1(self.batch_norm1(self.conv1(x)))\n",
    "        out = self.conv2(out)\n",
    "        if self.in_channels < self.out_channels:\n",
    "            x = self.conv3(x)\n",
    "        out = torch.add(x, out)\n",
    "        out = self.relu2(self.batch_norm2(out))\n",
    "        return out\n",
    "\n",
    "\n",
    "clf = ConvNet(BaseBlock)\n",
    "\n",
    "# Dzielenie zbioru danych na treningowy i walidacyjny\n",
    "split_point = int(len(X) * 0.5)\n",
    "\n",
    "X_train = torch.Tensor(X[:split_point]).unsqueeze(1)\n",
    "y_train = torch.LongTensor(y[:split_point])\n",
    "\n",
    "X_valid = torch.Tensor(X[split_point:]).unsqueeze(1)\n",
    "y_valid = torch.LongTensor(y[split_point:])\n",
    "\n",
    "batch_size = 32 \n",
    "\n",
    "dataset = TensorDataset(X_train, y_train)\n",
    "data_loader = DataLoader(dataset, batch_size = batch_size, shuffle = True)\n",
    "\n",
    "valid_dataset = TensorDataset(X_valid, y_valid)\n",
    "valid_data_loader = DataLoader(valid_dataset, batch_size = batch_size)\n",
    "\n",
    "# Ustawienie kosztu i optimizera\n",
    "criterion = torch.nn.CrossEntropyLoss()\n",
    "optimizer = torch.optim.Adam(clf.parameters())\n",
    "\n",
    "# Pętla uczenia\n",
    "best_preds, best_score = None, 0.\n",
    "losses, scores = [], []\n",
    "epochs_number = 100 \n",
    "for epoch in trange(epochs_number):\n",
    "    running_loss = 0\n",
    "    clf.train()\n",
    "    for X, y in data_loader:\n",
    "        optimizer.zero_grad()\n",
    "\n",
    "        outputs = clf(X)\n",
    "        loss = criterion(outputs, y)\n",
    "        loss.backward()\n",
    "        optimizer.step()\n",
    "        \n",
    "        running_loss += loss.item()\n",
    "        \n",
    "    losses.append(running_loss)\n",
    "    \n",
    "    clf.eval()\n",
    "    preds = []\n",
    "    for X, _ in valid_data_loader:\n",
    "        out = clf(X)\n",
    "        preds.append(torch.softmax(out, dim = 1)[:, 1].detach().numpy())\n",
    "    preds = np.concatenate(preds, axis = 0)\n",
    "    \n",
    "    # Metryką testującą jest ROC AUC\n",
    "    score = roc_auc_score(y_valid.numpy(), preds)\n",
    "    scores.append(score)\n",
    "    print(score)\n",
    "    if score > best_score:\n",
    "        best_score = score\n",
    "        best_preds = preds\n",
    "        np.save('tmp_preds', best_preds)\n",
    "        # Model dający najlepszy wynik powinien być zapisany\n",
    "torch.save(clf.state_dict(), 'tmp_model.pt')"
   ]
  },
  {
   "cell_type": "code",
   "execution_count": 826,
   "metadata": {},
   "outputs": [
    {
     "data": {
      "image/png": "[encoded data removed]",
      "text/plain": [
       "<Figure size 432x288 with 1 Axes>"
      ]
     },
     "metadata": {
      "needs_background": "light"
     },
     "output_type": "display_data"
    },
    {
     "data": {
      "image/png": "[encoded data removed]",
      "text/plain": [
       "<Figure size 432x288 with 1 Axes>"
      ]
     },
     "metadata": {
      "needs_background": "light"
     },
     "output_type": "display_data"
    }
   ],
   "source": [
    "# Rysowanie lossu i AUC\n",
    "\n",
    "import matplotlib.pyplot as plt\n",
    "\n",
    "%matplotlib inline\n",
    "\n",
    "plt.plot(scores)\n",
    "plt.show()\n",
    "\n",
    "plt.plot(losses)\n",
    "plt.show()"
   ]
  },
  {
   "cell_type": "markdown",
   "metadata": {},
   "source": [
    "# Zapis Predykcji"
   ]
  },
  {
   "cell_type": "code",
   "execution_count": 815,
   "metadata": {},
   "outputs": [],
   "source": [
    "def save_predictions(preds):\n",
    "    '''Zapisuje predykcje do pliku zgodnego z formatem odpowiedzi.\n",
    "    \n",
    "    Args:\n",
    "        preds (list): Lista predykcji (prawdopodobieństw).\n",
    "    '''\n",
    "    with open('sampleSubmission.csv', 'r') as file:\n",
    "        submission_text = file.read().split()\n",
    "        header = submission_text[0]\n",
    "        lines = submission_text[1:]\n",
    "\n",
    "    output_lines = [header]\n",
    "    for pred, line in zip(preds, lines):\n",
    "        output_lines.append(\"{},{}\".format(line.split(',')[0], pred))\n",
    "    \n",
    "    with open('submission.csv', 'w') as file:\n",
    "        file.write('\\n'.join(output_lines) + '\\n')"
   ]
  },
  {
   "cell_type": "code",
   "execution_count": 816,
   "metadata": {},
   "outputs": [],
   "source": [
    "# Wczytanie najlepszego modelu\n",
    "clf.load_state_dict(torch.load('tmp_model.pt'))\n",
    "\n",
    "# Tworzenie data loadera testowego\n",
    "X_test_tensor = torch.Tensor(X_test).unsqueeze(1)\n",
    "\n",
    "test_dataset = TensorDataset(X_test_tensor)\n",
    "test_data_loader = DataLoader(test_dataset, batch_size = batch_size)\n",
    "\n",
    "# Ewaluacja modelu na danych testowych\n",
    "clf.eval()\n",
    "preds = []\n",
    "for X in test_data_loader:\n",
    "    out = clf(X[0])\n",
    "    preds.append(torch.softmax(out, dim = 1)[:, 1].detach().numpy())\n",
    "preds = np.concatenate(preds, axis = 0)\n"
   ]
  },
  {
   "cell_type": "code",
   "execution_count": 817,
   "metadata": {},
   "outputs": [],
   "source": [
    "\n",
    "\n",
    "# Zapisanie predykcji do poprawnego formatu\n",
    "save_predictions(preds)"
   ]
  },
  {
   "cell_type": "code",
   "execution_count": null,
   "metadata": {},
   "outputs": [],
   "source": []
  }
 ],
 "metadata": {
  "kernelspec": {
   "display_name": "Python 3",
   "language": "python",
   "name": "python3"
  },
  "language_info": {
   "codemirror_mode": {
    "name": "ipython",
    "version": 3
   },
   "file_extension": ".py",
   "mimetype": "text/x-python",
   "name": "python",
   "nbconvert_exporter": "python",
   "pygments_lexer": "ipython3",
   "version": "3.6.8"
  }
 },
 "nbformat": 4,
 "nbformat_minor": 1
}
