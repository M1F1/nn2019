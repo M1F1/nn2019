{
 "cells": [
  {
   "cell_type": "markdown",
   "metadata": {},
   "source": [
    "### RAPORT"
   ]
  },
  {
   "cell_type": "markdown",
   "metadata": {},
   "source": [
    "#### PRZETWARZANIE DANYCH"
   ]
  },
  {
   "cell_type": "markdown",
   "metadata": {},
   "source": [
    "Zbiór treningowych składa się ze spektogramów mel nagrań audio. Sample z występującymi odgłosami ptaków powstały poprzez wycięcie z sekundowych nagrań fragmentów 0.3 sekundowych tak, aby odgłos ptaka był widoczny na środku spektogramu. Przedział częstotliwości: 6000 - 9000 Hz. \n",
    "Negatywne przykłady powstały w wyniku wylosowania przedziałów 0.3 sekundowych nagrań, które nie zawierają przykładów pozytywych.\n",
    "\n",
    "Predykcja i wyniki dla zbioru testującego powstały poprzez analizowanie spektogramów 0.3 sekundowych nagrań w wycinanych co 0.05 sekundy. Z wyników wszystkich ramek dla 1 sekundowych nagrań był brany wynik najlepszy i uznawany za predykcję dla danego testowego sampla."
   ]
  },
  {
   "cell_type": "markdown",
   "metadata": {},
   "source": [
    "### Architektura"
   ]
  },
  {
   "cell_type": "markdown",
   "metadata": {},
   "source": [
    "Do klasyfikacja została użyta płytka sieć neuronowa składająca się z:\n",
    "     - dwóch warstw konwolucyjnych (kernel_size = (1, 20) oraz kernel_size = (20, 1)),\n",
    "     - z aktywacji ReLU \n",
    "     - z warstw batchNorm\n",
    "     - z jednej warstwy MaxPooling2d()\n",
    "     - z warstwy liniowej z 176 neuronami"
   ]
  }
 ],
 "metadata": {
  "kernelspec": {
   "display_name": "Python 3",
   "language": "python",
   "name": "python3"
  },
  "language_info": {
   "codemirror_mode": {
    "name": "ipython",
    "version": 3
   },
   "file_extension": ".py",
   "mimetype": "text/x-python",
   "name": "python",
   "nbconvert_exporter": "python",
   "pygments_lexer": "ipython3",
   "version": "3.6.8"
  }
 },
 "nbformat": 4,
 "nbformat_minor": 2
}
