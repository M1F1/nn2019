{
  "nbformat": 4,
  "nbformat_minor": 0,
  "metadata": {
    "colab": {
      "name": "main.ipynb",
      "version": "0.3.2",
      "provenance": [],
      "collapsed_sections": []
    },
    "language_info": {
      "codemirror_mode": {
        "name": "ipython",
        "version": 3
      },
      "file_extension": ".py",
      "mimetype": "text/x-python",
      "name": "python",
      "nbconvert_exporter": "python",
      "pygments_lexer": "ipython3",
      "version": "3.6.8"
    },
    "kernelspec": {
      "name": "python3",
      "display_name": "Python 3"
    },
    "accelerator": "GPU"
  },
  "cells": [
    {
      "cell_type": "code",
      "metadata": {
        "id": "xPtJQXI7YVLm",
        "colab_type": "code",
        "colab": {}
      },
      "source": [
        "from __future__ import print_function, division\n",
        "import os\n",
        "import torch\n",
        "import os\n",
        "import torch\n",
        "from torch import nn\n",
        "import pandas as pd\n",
        "import torchvision\n",
        "from skimage import io, transform\n",
        "import numpy as np\n",
        "import matplotlib.pyplot as plt\n",
        "import glob\n",
        "from torch.utils.data import Dataset, DataLoader\n",
        "from torchvision import transforms, utils\n",
        "import tqdm\n",
        "\n",
        "# Ignore warnings\n",
        "import warnings\n",
        "warnings.filterwarnings(\"ignore\")\n",
        "plt.ion()   # interactive mode"
      ],
      "execution_count": 0,
      "outputs": []
    },
    {
      "cell_type": "code",
      "metadata": {
        "id": "5-e6aqgiahQ0",
        "colab_type": "code",
        "colab": {}
      },
      "source": [
        "import tarfile\n",
        "fname = 'data.tar.gz'\n",
        "if (fname.endswith(\"tar.gz\")):\n",
        "    tar = tarfile.open(fname, \"r:gz\")\n",
        "    tar.extractall()\n",
        "    tar.close()"
      ],
      "execution_count": 0,
      "outputs": []
    },
    {
      "cell_type": "code",
      "metadata": {
        "id": "UxPWT3amYVMc",
        "colab_type": "code",
        "outputId": "e6313163-c447-4110-8cda-8963b3e18c3a",
        "colab": {
          "base_uri": "https://localhost:8080/",
          "height": 486
        }
      },
      "source": [
        "from tensorflow.python.client import device_lib; device_lib.list_local_devices()"
      ],
      "execution_count": 3,
      "outputs": [
        {
          "output_type": "execute_result",
          "data": {
            "text/plain": [
              "[name: \"/device:CPU:0\"\n",
              " device_type: \"CPU\"\n",
              " memory_limit: 268435456\n",
              " locality {\n",
              " }\n",
              " incarnation: 8597196876614895895, name: \"/device:XLA_CPU:0\"\n",
              " device_type: \"XLA_CPU\"\n",
              " memory_limit: 17179869184\n",
              " locality {\n",
              " }\n",
              " incarnation: 14499720536423813224\n",
              " physical_device_desc: \"device: XLA_CPU device\", name: \"/device:XLA_GPU:0\"\n",
              " device_type: \"XLA_GPU\"\n",
              " memory_limit: 17179869184\n",
              " locality {\n",
              " }\n",
              " incarnation: 2105507316656682513\n",
              " physical_device_desc: \"device: XLA_GPU device\", name: \"/device:GPU:0\"\n",
              " device_type: \"GPU\"\n",
              " memory_limit: 11015956071\n",
              " locality {\n",
              "   bus_id: 1\n",
              "   links {\n",
              "   }\n",
              " }\n",
              " incarnation: 8425246742526155663\n",
              " physical_device_desc: \"device: 0, name: Tesla K80, pci bus id: 0000:00:04.0, compute capability: 3.7\"]"
            ]
          },
          "metadata": {
            "tags": []
          },
          "execution_count": 3
        }
      ]
    },
    {
      "cell_type": "code",
      "metadata": {
        "id": "mj71xtBoYVNc",
        "colab_type": "code",
        "colab": {}
      },
      "source": [
        "import numpy as np\n",
        "import matplotlib.pyplot as plt\n",
        "import numpy as np\n",
        "\n",
        "class DenoisingDataset(Dataset):\n",
        "\n",
        "    def __init__(self, data_dir, transform=None, train=True):\n",
        "        self.train= train \n",
        "        self.x_path = os.path.join(data_dir, 'clean')\n",
        "        self.y_path = os.path.join(data_dir, 'distorted')\n",
        "        self.x_test_path = os.path.join(data_dir, 'test_distorted')\n",
        "        self.x_files_paths = glob.glob(os.path.join(self.x_path, '*.jpg'))\n",
        "        self.y_files_paths = glob.glob(os.path.join(self.y_path, '*.jpg'))\n",
        "        self.x_test_files_paths = glob.glob(os.path.join(self.x_test_path, '*.jpg'))\n",
        "        self.transform = transform\n",
        "        self.train_data = []\n",
        "        self.test_data = []\n",
        "        self.labels_data = []\n",
        "\n",
        "    def __len__(self):\n",
        "        if self.train:\n",
        "          return len(self.x_files_paths)\n",
        "        else:\n",
        "          return len(self.x_test_files_paths)\n",
        "\n",
        "    def __getitem__(self, idx):\n",
        "        if self.train: \n",
        "            x_img_name, y_img_name =  self.x_files_paths[idx], self.y_files_paths[idx]\n",
        "            x_image, y_image = io.imread(x_img_name), io.imread(y_img_name)\n",
        "            x = self.transform(x_image)\n",
        "            y = self.transform(y_image)\n",
        "            self.train_data.append(x)\n",
        "            self.labels_data.append(y)\n",
        "            return x,y\n",
        "            \n",
        "        else:\n",
        "            x_test_img_name =  self.x_test_files_paths[idx]\n",
        "            x_test_image = io.imread(x_test_img_name)\n",
        "            x = self.transform(x_test_image)\n",
        "            self.test_data.append(x)\n",
        "            return x\n",
        "        \n",
        "    def get_train_data(self, num):\n",
        "        return torch.stack(self.train_data[:num]), torch.stack(self.labels_data[:num])\n",
        "    \n",
        "    def get_test_data(self, num):\n",
        "        return torch.stack(self.test_data[:num])\n",
        "\n",
        "\n",
        "def show_img(image):\n",
        "#     plt.imshow(image)\n",
        "#     print(image)\n",
        "    plt.imshow(image.permute(1, 2, 0).type(torch.FloatTensor)  )\n",
        "    plt.pause(0.001)  # pause a bit so that plots are updated\n",
        "    \n",
        "\n",
        "def save_result(images: np.ndarray, out_path: str):\n",
        "    \n",
        "    assert images.shape == (400, 3, 48, 48)\n",
        "    \n",
        "    flat_img = images.reshape(400, -1)\n",
        "    n_rows = np.prod(images.shape)\n",
        "    \n",
        "    y_with_id = np.concatenate([np.arange(n_rows).reshape(-1, 1), flat_img.reshape(n_rows, 1)], axis=1)\n",
        "    np.savetxt(out_path, y_with_id, delimiter=\",\", fmt=['%d', '%.4f'], header=\"id,expetced\", comments='')"
      ],
      "execution_count": 0,
      "outputs": []
    },
    {
      "cell_type": "code",
      "metadata": {
        "id": "rmGVhvHvYVNy",
        "colab_type": "code",
        "colab": {}
      },
      "source": [
        ""
      ],
      "execution_count": 0,
      "outputs": []
    },
    {
      "cell_type": "code",
      "metadata": {
        "id": "ODnMNW0RYVOI",
        "colab_type": "code",
        "outputId": "29f91cdd-ec70-4803-f8f2-b0a0001ea670",
        "colab": {
          "base_uri": "https://localhost:8080/",
          "height": 34
        }
      },
      "source": [
        "train_dataset = DenoisingDataset(data_path, \n",
        "                                 transform=transforms.Compose([\n",
        "                                     torchvision.transforms.ToTensor(),\n",
        "                                ]))\n",
        "batch_size = 32\n",
        "train_loader = torch.utils.data.DataLoader(dataset=train_dataset, batch_size=batch_size, shuffle=True)\n",
        "print(next(iter(train_loader))[0].shape)"
      ],
      "execution_count": 0,
      "outputs": [
        {
          "output_type": "stream",
          "text": [
            "torch.Size([32, 3, 48, 48])\n"
          ],
          "name": "stdout"
        }
      ]
    },
    {
      "cell_type": "code",
      "metadata": {
        "id": "sa0-UwUUYVOZ",
        "colab_type": "code",
        "outputId": "de8554c8-348e-44b6-f757-93d769519e59",
        "colab": {
          "base_uri": "https://localhost:8080/",
          "height": 1320
        }
      },
      "source": [
        "\n",
        "show_img(train_dataset.get_train_data(5)[1][3])\n",
        "show_img(train_dataset.get_train_data(5)[0][3])"
      ],
      "execution_count": 0,
      "outputs": [
        {
          "output_type": "stream",
          "text": [
            "tensor([[[0.4706, 0.4706, 0.4706,  ..., 0.4902, 0.4902, 0.4863],\n",
            "         [0.5020, 0.5020, 0.5020,  ..., 0.5020, 0.4941, 0.4941],\n",
            "         [0.5451, 0.5451, 0.5451,  ..., 0.5098, 0.5098, 0.5059],\n",
            "         ...,\n",
            "         [0.6863, 0.7137, 0.7333,  ..., 0.7294, 0.7294, 0.7294],\n",
            "         [0.6353, 0.6627, 0.6863,  ..., 0.7098, 0.7098, 0.7098],\n",
            "         [0.6000, 0.6275, 0.6510,  ..., 0.6863, 0.6863, 0.6863]],\n",
            "\n",
            "        [[0.7333, 0.7294, 0.7294,  ..., 0.7294, 0.7294, 0.7333],\n",
            "         [0.7176, 0.7176, 0.7176,  ..., 0.7333, 0.7373, 0.7373],\n",
            "         [0.6980, 0.6980, 0.6941,  ..., 0.7373, 0.7373, 0.7373],\n",
            "         ...,\n",
            "         [0.5882, 0.6157, 0.6353,  ..., 0.6941, 0.6941, 0.6941],\n",
            "         [0.5412, 0.5686, 0.5922,  ..., 0.6745, 0.6745, 0.6745],\n",
            "         [0.4980, 0.5255, 0.5490,  ..., 0.6510, 0.6510, 0.6510]],\n",
            "\n",
            "        [[0.7686, 0.7765, 0.7765,  ..., 0.9020, 0.9020, 0.9020],\n",
            "         [0.7961, 0.7961, 0.7961,  ..., 0.8980, 0.8980, 0.8980],\n",
            "         [0.8275, 0.8275, 0.8353,  ..., 0.8941, 0.8941, 0.8941],\n",
            "         ...,\n",
            "         [0.3373, 0.3647, 0.3843,  ..., 0.6667, 0.6667, 0.6667],\n",
            "         [0.2588, 0.2863, 0.3098,  ..., 0.6471, 0.6471, 0.6471],\n",
            "         [0.2039, 0.2314, 0.2549,  ..., 0.6235, 0.6235, 0.6235]]])\n"
          ],
          "name": "stdout"
        },
        {
          "output_type": "display_data",
          "data": {
            "image/png": "[encoded data removed]",
            "text/plain": [
              "<Figure size 432x288 with 1 Axes>"
            ]
          },
          "metadata": {
            "tags": []
          }
        },
        {
          "output_type": "stream",
          "text": [
            "tensor([[[0.5176, 0.5412, 0.5569,  ..., 0.5725, 0.5686, 0.5647],\n",
            "         [0.5333, 0.5451, 0.5490,  ..., 0.5647, 0.5569, 0.5608],\n",
            "         [0.5569, 0.5451, 0.5373,  ..., 0.5569, 0.5569, 0.5608],\n",
            "         ...,\n",
            "         [0.6667, 0.6667, 0.8706,  ..., 0.7216, 0.7333, 0.7412],\n",
            "         [0.5098, 0.5098, 0.7529,  ..., 0.6941, 0.7059, 0.7137],\n",
            "         [0.5176, 0.5294, 0.5804,  ..., 0.6941, 0.6941, 0.6863]],\n",
            "\n",
            "        [[0.7059, 0.6863, 0.6784,  ..., 0.6980, 0.7020, 0.7098],\n",
            "         [0.7059, 0.6902, 0.6902,  ..., 0.7098, 0.7137, 0.7176],\n",
            "         [0.7059, 0.7020, 0.7059,  ..., 0.7216, 0.7176, 0.7216],\n",
            "         ...,\n",
            "         [0.6157, 0.5529, 0.7137,  ..., 0.6824, 0.6941, 0.7020],\n",
            "         [0.4980, 0.4314, 0.6392,  ..., 0.6588, 0.6784, 0.6863],\n",
            "         [0.5333, 0.4941, 0.5176,  ..., 0.6667, 0.6706, 0.6627]],\n",
            "\n",
            "        [[0.8627, 0.9020, 0.9333,  ..., 0.8902, 0.8824, 0.8863],\n",
            "         [0.8588, 0.8980, 0.9255,  ..., 0.9137, 0.9059, 0.9098],\n",
            "         [0.8588, 0.8941, 0.9137,  ..., 0.9176, 0.9216, 0.9255],\n",
            "         ...,\n",
            "         [0.3490, 0.1922, 0.2784,  ..., 0.6745, 0.6980, 0.7059],\n",
            "         [0.3686, 0.2235, 0.3725,  ..., 0.6314, 0.6549, 0.6627],\n",
            "         [0.5765, 0.4667, 0.4588,  ..., 0.6275, 0.6235, 0.6157]]])\n"
          ],
          "name": "stdout"
        },
        {
          "output_type": "display_data",
          "data": {
            "image/png": "[encoded data removed]",
            "text/plain": [
              "<Figure size 432x288 with 1 Axes>"
            ]
          },
          "metadata": {
            "tags": []
          }
        }
      ]
    },
    {
      "cell_type": "code",
      "metadata": {
        "id": "hk0LXZQJP7qI",
        "colab_type": "code",
        "colab": {}
      },
      "source": [
        "class ConvVAutoencoder(nn.Module):\n",
        "    def __init__(self):\n",
        "        super(ConvVAutoencoder, self).__init__()\n",
        "        # Encoder\n",
        "        self.conv1 = nn.Conv2d(3, 16, kernel_size=3, stride=1, padding=1, bias=False)\n",
        "        self.bn1 = nn.BatchNorm2d(16)\n",
        "        self.conv2 = nn.Conv2d(16, 32, kernel_size=3, stride=2, padding=1, bias=False)\n",
        "        self.bn2 = nn.BatchNorm2d(32)\n",
        "        self.conv3 = nn.Conv2d(32, 64, kernel_size=3, stride=1, padding=1, bias=False)\n",
        "        self.bn3 = nn.BatchNorm2d(64)\n",
        "        self.conv4 = nn.Conv2d(64, 16, kernel_size=3, stride=2, padding=1, bias=False)\n",
        "        self.bn4 = nn.BatchNorm2d(16)\n",
        "\n",
        "        # Latent vectors mu and sigma\n",
        "        self.fc1 = nn.Linear(12 * 12 * 16, 2048)\n",
        "        self.fc_bn1 = nn.BatchNorm1d(2048)\n",
        "        self.fc21 = nn.Linear(2048, 2048)\n",
        "        self.fc22 = nn.Linear(2048, 2048)\n",
        "\n",
        "        # Sampling vector\n",
        "        self.fc3 = nn.Linear(2048, 2048)\n",
        "        self.fc_bn3 = nn.BatchNorm1d(2048)\n",
        "        self.fc4 = nn.Linear(2048, 12 * 12 * 16)\n",
        "        self.fc_bn4 = nn.BatchNorm1d(12 * 12 * 16)\n",
        "\n",
        "        # Decoder\n",
        "        self.conv5 = nn.ConvTranspose2d(16, 64, kernel_size=3, stride=2, padding=1, output_padding=1, bias=False)\n",
        "        self.bn5 = nn.BatchNorm2d(64)\n",
        "        self.conv6 = nn.ConvTranspose2d(64, 32, kernel_size=3, stride=1, padding=1, bias=False)\n",
        "        self.bn6 = nn.BatchNorm2d(32)\n",
        "        self.conv7 = nn.ConvTranspose2d(32, 16, kernel_size=3, stride=2, padding=1, output_padding=1, bias=False)\n",
        "        self.bn7 = nn.BatchNorm2d(16)\n",
        "        self.conv8 = nn.ConvTranspose2d(16, 3, kernel_size=3, stride=1, padding=1, bias=False)\n",
        "\n",
        "        self.relu = nn.ReLU()\n",
        "    def forward(self, x):\n",
        "        conv1 = self.relu(self.bn1(self.conv1(x)))\n",
        "        conv2 = self.relu(self.bn2(self.conv2(conv1)))\n",
        "        conv3 = self.relu(self.bn3(self.conv3(conv2)))\n",
        "        conv4 = self.relu(self.bn4(self.conv4(conv3))).view(-1, 12 * 12 * 16 )\n",
        "\n",
        "        fc1 = self.relu(self.fc_bn1(self.fc1(conv4)))\n",
        "        mu = self.fc21(fc1)\n",
        "        std = self.fc22(fc1)\n",
        "\n",
        "        std = logvar.mul(0.5).exp_()\n",
        "        eps = Variable(std.data.new(std.size()).normal_())\n",
        "        z = eps.mul(std).add_(mu)\n",
        "        fc3 = self.relu(self.fc_bn3(self.fc3(z)))\n",
        "        fc4 = self.relu(self.fc_bn4(self.fc4(fc3))).view(-1, 12, 12, 16)\n",
        "\n",
        "        conv5 = self.relu(self.bn5(self.conv5(fc4)))\n",
        "        conv6 = self.relu(self.bn6(self.conv6(conv5)))\n",
        "        conv7 = self.relu(self.bn7(self.conv7(conv6)))\n",
        "        out = self.conv8(conv7).view(-1, 3, 48, 48)\n",
        "        return fc4, out"
      ],
      "execution_count": 0,
      "outputs": []
    },
    {
      "cell_type": "code",
      "metadata": {
        "id": "b_ztjE9oauAH",
        "colab_type": "code",
        "colab": {}
      },
      "source": [
        "# Create the neural network\n",
        "def AE(x_dict, reuse, is_training):\n",
        "    \n",
        "    # Define a scope for reusing the variables\n",
        "    with tf.variable_scope('autoencoder', reuse=reuse):\n",
        "        # TF Estimator input is a dict, in case of multiple inputs\n",
        "        x = x_dict['noise']\n",
        "        \n",
        "        # MNIST data input is a 1-D vector of 784 features (28*28 pixels)\n",
        "        # Reshape to match picture format [Height x Width x Channel]\n",
        "        # Tensor input become 4-D: [Batch Size, Height, Width, Channel]\n",
        "        x = tf.reshape(x, shape=[-1, 28, 28, 1])\n",
        "\n",
        "        conv1 = tf.layers.conv2d(x, 32, 3, activation=tf.nn.relu)\n",
        "        conv2 = tf.layers.conv2d(conv1, 32, 3, activation=tf.nn.relu)\n",
        "        pool1 = tf.layers.max_pooling2d(conv2, 2, 2)\n",
        "        conv3 = tf.layers.conv2d(pool1, 64, 3, activation=tf.nn.relu)\n",
        "        pool2 = tf.layers.max_pooling2d(conv3, 2, 2)\n",
        "        # Flatten the data to a 1-D vector for the fully connected layer\n",
        "        fc1 = tf.contrib.layers.flatten(pool2)\n",
        "        fc1=tf.reshape(fc1,shape=[-1,1,1,1600])\n",
        "        conv_0T = tf.layers.Conv2DTranspose(128,(1, 1),activation=tf.nn.relu)(fc1)#1*1\n",
        "        conv_1T = tf.layers.Conv2DTranspose(64,(3, 3), activation=tf.nn.relu)(conv_0T)#3*3\n",
        "        conv_2T = tf.layers.Conv2DTranspose(64,(3, 3), activation=tf.nn.relu)(conv_1T)#5*5\n",
        "        conv_3T = tf.layers.Conv2DTranspose(48,(3, 3), strides=(2, 2),padding='same',activation=tf.nn.relu)(conv_2T)#10*10\n",
        "        conv_4T = tf.layers.Conv2DTranspose(48,(3, 3), activation=tf.nn.relu)(conv_3T)#12*12\n",
        "        conv_5T = tf.layers.Conv2DTranspose(32,(3, 3), strides=(2, 2),padding='same',activation=tf.nn.relu)(conv_4T)#24*24\n",
        "        conv_6T = tf.layers.Conv2DTranspose(16,(3, 3), activation=tf.nn.relu)(conv_5T)#26*26\n",
        "        out = tf.layers.Conv2DTranspose(1,(3, 3),activation=tf.nn.sigmoid)(conv_6T)#28*28\n",
        "    #print(tf.layer.all_layers)\n",
        "    return out\n",
        "  \n",
        "def AE_loss(x_reconstructed,x_true):\n",
        "  encode_decode_loss = x_true * tf.log(1e-10 + x_reconstructed) \\\n",
        "                       + (1 - x_true) * tf.log(1e-10 + 1 - x_reconstructed)\n",
        "  encode_decode_loss = -tf.reduce_sum(encode_decode_loss, 1)\n",
        "  return tf.reduce_mean(encode_decode_loss)"
      ],
      "execution_count": 0,
      "outputs": []
    },
    {
      "cell_type": "code",
      "metadata": {
        "id": "BcCqGLT8lXY2",
        "colab_type": "code",
        "colab": {}
      },
      "source": [
        "class ConvAutoencoder(nn.Module):\n",
        "    def __init__(self, ks):\n",
        "        super(ConvAutoencoder, self).__init__()\n",
        "        self.encoder = nn.Sequential(\n",
        "            nn.Conv2d(3, 32, (ks,ks), padding=1),\n",
        "            nn.ReLU(inplace=True),\n",
        "            nn.Conv2d(32, 64, (ks,ks), padding=1),\n",
        "            nn.ReLU(inplace=True),\n",
        "            nn.MaxPool2d(2),\n",
        "            nn.Conv2d(64, 32, (ks,ks), padding=1),\n",
        "            nn.ReLU(inplace=True),\n",
        "            nn.MaxPool2d(2),\n",
        "            nn.Conv2d(32, 16, (ks,ks), padding=1),\n",
        "            nn.ReLU(inplace=True),\n",
        "            nn.MaxPool2d(2),\n",
        "        )\n",
        "\n",
        "        self.decoder = nn.Sequential(\n",
        "            nn.ConvTranspose2d(in_channels=16,out_channels=32, kernel_size=(ks,ks), padding=1),\n",
        "            nn.ReLU(inplace=True),\n",
        "            nn.UpsamplingBilinear2d(scale_factor=2),\n",
        "            nn.ConvTranspose2d(32, 64, (ks,ks), padding=1),\n",
        "            nn.ReLU(inplace=True),\n",
        "            nn.UpsamplingBilinear2d(scale_factor=2),\n",
        "            nn.ConvTranspose2d(64, 32, (ks,ks), padding=1),\n",
        "            nn.ReLU(inplace=True),\n",
        "            nn.UpsamplingBilinear2d(scale_factor=2),\n",
        "            nn.ConvTranspose2d(32, 3, (ks,ks), padding=1),   \n",
        "            nn.Sigmoid()\n",
        "        )\n",
        "\n",
        "    def forward(self, x):\n",
        "        encoded = self.encoder(x)\n",
        "        decoded = self.decoder(encoded)\n",
        "        return encoded, decoded"
      ],
      "execution_count": 0,
      "outputs": []
    },
    {
      "cell_type": "code",
      "metadata": {
        "id": "OJFygoSuYVRv",
        "colab_type": "code",
        "outputId": "e32edcfa-daf7-4deb-dd79-d2316a3d4afa",
        "colab": {
          "base_uri": "https://localhost:8080/",
          "height": 486
        }
      },
      "source": [
        "\n",
        "# Hyper Parameters\n",
        "epochs = 10\n",
        "lr = 0.005 \n",
        "n_plots = 1\n",
        "batch_size = 32\n",
        "\n",
        "in_data, original_data = train_dataset.get_train_data(n_plots)\n",
        "autoencoder = ConvAutoencoder(3)#AutoEncoder(latent_dim=30, image_size=48, channel_num=3)\n",
        "\n",
        "optimizer = torch.optim.Adam(autoencoder.parameters(), lr=lr)\n",
        "loss_func = loss = nn.MSELoss()\n",
        "\n",
        "autoencoder.train()\n",
        "for epoch in range(epochs):\n",
        "    for step, (x, y) in tqdm.tqdm(enumerate(train_loader)):\n",
        "        encoded, decoded = autoencoder(x) \n",
        "#         y = y.view(-1, 3 * 48 * 48)\n",
        "#         print('decoded.shape: ', decoded.shape)\n",
        "#         print('y.shape: ', y.shape)\n",
        "\n",
        "        loss = loss_func(decoded, y) \n",
        "        optimizer.zero_grad()   # clear gradients for this training step\n",
        "        loss.backward()         # backpropagation, compute gradients\n",
        "        optimizer.step()        # apply gradients\n",
        "\n",
        "        if step % 100 == 0 and epoch in [0,2, 5, 7 epochs - 1]:\n",
        "            print('Epoch: ', epoch, '| train loss: %.4f' % loss.data.item())      \n",
        "            _, decoded_data = autoencoder(in_data)\n",
        "#             print(in_data.shape)\n",
        "#             print(decoded_data)\n",
        "            show_img(in_data.squeeze(0))\n",
        "            show_img(original_data.squeeze(0))\n",
        "            show_img(decoded_data.data.squeeze(0))"
      ],
      "execution_count": 0,
      "outputs": [
        {
          "output_type": "stream",
          "text": [
            "\n",
            "\n",
            "\n",
            "0it [00:00, ?it/s]\u001b[A\u001b[A\u001b[A\n",
            "\n",
            "\n",
            "\u001b[A\u001b[A\u001b[A"
          ],
          "name": "stderr"
        },
        {
          "output_type": "error",
          "ename": "NameError",
          "evalue": "ignored",
          "traceback": [
            "\u001b[0;31m---------------------------------------------------------------------------\u001b[0m",
            "\u001b[0;31mNameError\u001b[0m                                 Traceback (most recent call last)",
            "\u001b[0;32m<ipython-input-33-426c007c9494>\u001b[0m in \u001b[0;36m<module>\u001b[0;34m()\u001b[0m\n\u001b[1;32m     16\u001b[0m \u001b[0;31m#         x = x.view(-1, 3 * 48 * 48)\u001b[0m\u001b[0;34m\u001b[0m\u001b[0;34m\u001b[0m\u001b[0;34m\u001b[0m\u001b[0m\n\u001b[1;32m     17\u001b[0m \u001b[0;31m#         print(x.shape)\u001b[0m\u001b[0;34m\u001b[0m\u001b[0;34m\u001b[0m\u001b[0;34m\u001b[0m\u001b[0m\n\u001b[0;32m---> 18\u001b[0;31m         \u001b[0mencoded\u001b[0m\u001b[0;34m,\u001b[0m \u001b[0mdecoded\u001b[0m \u001b[0;34m=\u001b[0m \u001b[0mautoencoder\u001b[0m\u001b[0;34m(\u001b[0m\u001b[0mx\u001b[0m\u001b[0;34m)\u001b[0m\u001b[0;34m\u001b[0m\u001b[0;34m\u001b[0m\u001b[0m\n\u001b[0m\u001b[1;32m     19\u001b[0m \u001b[0;31m#         y = y.view(-1, 3 * 48 * 48)\u001b[0m\u001b[0;34m\u001b[0m\u001b[0;34m\u001b[0m\u001b[0;34m\u001b[0m\u001b[0m\n\u001b[1;32m     20\u001b[0m         \u001b[0mprint\u001b[0m\u001b[0;34m(\u001b[0m\u001b[0;34m'decoded.shape: '\u001b[0m\u001b[0;34m,\u001b[0m \u001b[0mdecoded\u001b[0m\u001b[0;34m.\u001b[0m\u001b[0mshape\u001b[0m\u001b[0;34m)\u001b[0m\u001b[0;34m\u001b[0m\u001b[0;34m\u001b[0m\u001b[0m\n",
            "\u001b[0;32m/usr/local/lib/python3.6/dist-packages/torch/nn/modules/module.py\u001b[0m in \u001b[0;36m__call__\u001b[0;34m(self, *input, **kwargs)\u001b[0m\n\u001b[1;32m    491\u001b[0m             \u001b[0mresult\u001b[0m \u001b[0;34m=\u001b[0m \u001b[0mself\u001b[0m\u001b[0;34m.\u001b[0m\u001b[0m_slow_forward\u001b[0m\u001b[0;34m(\u001b[0m\u001b[0;34m*\u001b[0m\u001b[0minput\u001b[0m\u001b[0;34m,\u001b[0m \u001b[0;34m**\u001b[0m\u001b[0mkwargs\u001b[0m\u001b[0;34m)\u001b[0m\u001b[0;34m\u001b[0m\u001b[0;34m\u001b[0m\u001b[0m\n\u001b[1;32m    492\u001b[0m         \u001b[0;32melse\u001b[0m\u001b[0;34m:\u001b[0m\u001b[0;34m\u001b[0m\u001b[0;34m\u001b[0m\u001b[0m\n\u001b[0;32m--> 493\u001b[0;31m             \u001b[0mresult\u001b[0m \u001b[0;34m=\u001b[0m \u001b[0mself\u001b[0m\u001b[0;34m.\u001b[0m\u001b[0mforward\u001b[0m\u001b[0;34m(\u001b[0m\u001b[0;34m*\u001b[0m\u001b[0minput\u001b[0m\u001b[0;34m,\u001b[0m \u001b[0;34m**\u001b[0m\u001b[0mkwargs\u001b[0m\u001b[0;34m)\u001b[0m\u001b[0;34m\u001b[0m\u001b[0;34m\u001b[0m\u001b[0m\n\u001b[0m\u001b[1;32m    494\u001b[0m         \u001b[0;32mfor\u001b[0m \u001b[0mhook\u001b[0m \u001b[0;32min\u001b[0m \u001b[0mself\u001b[0m\u001b[0;34m.\u001b[0m\u001b[0m_forward_hooks\u001b[0m\u001b[0;34m.\u001b[0m\u001b[0mvalues\u001b[0m\u001b[0;34m(\u001b[0m\u001b[0;34m)\u001b[0m\u001b[0;34m:\u001b[0m\u001b[0;34m\u001b[0m\u001b[0;34m\u001b[0m\u001b[0m\n\u001b[1;32m    495\u001b[0m             \u001b[0mhook_result\u001b[0m \u001b[0;34m=\u001b[0m \u001b[0mhook\u001b[0m\u001b[0;34m(\u001b[0m\u001b[0mself\u001b[0m\u001b[0;34m,\u001b[0m \u001b[0minput\u001b[0m\u001b[0;34m,\u001b[0m \u001b[0mresult\u001b[0m\u001b[0;34m)\u001b[0m\u001b[0;34m\u001b[0m\u001b[0;34m\u001b[0m\u001b[0m\n",
            "\u001b[0;32m<ipython-input-32-46df4e1b9019>\u001b[0m in \u001b[0;36mforward\u001b[0;34m(self, x)\u001b[0m\n\u001b[1;32m     44\u001b[0m         \u001b[0mstd\u001b[0m \u001b[0;34m=\u001b[0m \u001b[0mself\u001b[0m\u001b[0;34m.\u001b[0m\u001b[0mfc22\u001b[0m\u001b[0;34m(\u001b[0m\u001b[0mfc1\u001b[0m\u001b[0;34m)\u001b[0m\u001b[0;34m\u001b[0m\u001b[0;34m\u001b[0m\u001b[0m\n\u001b[1;32m     45\u001b[0m \u001b[0;34m\u001b[0m\u001b[0m\n\u001b[0;32m---> 46\u001b[0;31m         \u001b[0mstd\u001b[0m \u001b[0;34m=\u001b[0m \u001b[0mlogvar\u001b[0m\u001b[0;34m.\u001b[0m\u001b[0mmul\u001b[0m\u001b[0;34m(\u001b[0m\u001b[0;36m0.5\u001b[0m\u001b[0;34m)\u001b[0m\u001b[0;34m.\u001b[0m\u001b[0mexp_\u001b[0m\u001b[0;34m(\u001b[0m\u001b[0;34m)\u001b[0m\u001b[0;34m\u001b[0m\u001b[0;34m\u001b[0m\u001b[0m\n\u001b[0m\u001b[1;32m     47\u001b[0m         \u001b[0meps\u001b[0m \u001b[0;34m=\u001b[0m \u001b[0mVariable\u001b[0m\u001b[0;34m(\u001b[0m\u001b[0mstd\u001b[0m\u001b[0;34m.\u001b[0m\u001b[0mdata\u001b[0m\u001b[0;34m.\u001b[0m\u001b[0mnew\u001b[0m\u001b[0;34m(\u001b[0m\u001b[0mstd\u001b[0m\u001b[0;34m.\u001b[0m\u001b[0msize\u001b[0m\u001b[0;34m(\u001b[0m\u001b[0;34m)\u001b[0m\u001b[0;34m)\u001b[0m\u001b[0;34m.\u001b[0m\u001b[0mnormal_\u001b[0m\u001b[0;34m(\u001b[0m\u001b[0;34m)\u001b[0m\u001b[0;34m)\u001b[0m\u001b[0;34m\u001b[0m\u001b[0;34m\u001b[0m\u001b[0m\n\u001b[1;32m     48\u001b[0m         \u001b[0mz\u001b[0m \u001b[0;34m=\u001b[0m \u001b[0meps\u001b[0m\u001b[0;34m.\u001b[0m\u001b[0mmul\u001b[0m\u001b[0;34m(\u001b[0m\u001b[0mstd\u001b[0m\u001b[0;34m)\u001b[0m\u001b[0;34m.\u001b[0m\u001b[0madd_\u001b[0m\u001b[0;34m(\u001b[0m\u001b[0mmu\u001b[0m\u001b[0;34m)\u001b[0m\u001b[0;34m\u001b[0m\u001b[0;34m\u001b[0m\u001b[0m\n",
            "\u001b[0;31mNameError\u001b[0m: name 'logvar' is not defined"
          ]
        }
      ]
    },
    {
      "cell_type": "code",
      "metadata": {
        "id": "-uIoujnKYVSR",
        "colab_type": "code",
        "colab": {}
      },
      "source": [
        ""
      ],
      "execution_count": 0,
      "outputs": []
    },
    {
      "cell_type": "code",
      "metadata": {
        "id": "T3kzKp84YVSd",
        "colab_type": "code",
        "outputId": "7b1757c4-bf29-45a0-9510-45d8214f5e68",
        "colab": {
          "base_uri": "https://localhost:8080/",
          "height": 1337
        }
      },
      "source": [
        "test_dataset = DenoisingDataset(data_path, \n",
        "                                train=False,\n",
        "                                transform=transforms.Compose([\n",
        "                                   torchvision.transforms.ToTensor()\n",
        "#                                    torchvision.transforms.Lambda(lambda x: x.flatten())\n",
        "                                ]))\n",
        "\n",
        "test_loader = torch.utils.data.DataLoader(dataset=test_dataset, batch_size=batch_size, shuffle=True)\n",
        "decoded_samples = []\n",
        "autoencoder.eval()\n",
        "for step, x in enumerate(test_loader):\n",
        "    \n",
        "    en_x, de_x = autoencoder(x)\n",
        "    decoded_samples.append(de_x.detach().numpy())\n",
        "    # encode the points into the latent space and save for later estimation\n",
        "    \n",
        "sampled_z = np.concatenate(decoded_samples, axis=0)\n",
        "print(sampled_z.shape)\n",
        "save_result(sampled_z, 'solution.csv')\n",
        "show_img(x[0].squeeze(0))#.view(3,48, 48))\n",
        "# show_img(original_data.squeeze(0))#.view(3,48, 48))\n",
        "show_img(de_x[0].data.squeeze(0))\n"
      ],
      "execution_count": 0,
      "outputs": [
        {
          "output_type": "stream",
          "text": [
            "(400, 3, 48, 48)\n",
            "tensor([[[0.4118, 0.4118, 0.4118,  ..., 0.3608, 0.3608, 0.3608],\n",
            "         [0.4078, 0.4078, 0.4078,  ..., 0.3490, 0.3490, 0.3490],\n",
            "         [0.4039, 0.4039, 0.4039,  ..., 0.3490, 0.3490, 0.3490],\n",
            "         ...,\n",
            "         [0.4588, 0.4275, 0.4235,  ..., 0.3686, 0.3882, 0.4000],\n",
            "         [0.3882, 0.3686, 0.3922,  ..., 0.2980, 0.3255, 0.3451],\n",
            "         [0.3255, 0.3137, 0.3608,  ..., 0.2549, 0.2863, 0.3059]],\n",
            "\n",
            "        [[0.3647, 0.3647, 0.3647,  ..., 0.3686, 0.3686, 0.3686],\n",
            "         [0.3647, 0.3647, 0.3647,  ..., 0.3569, 0.3569, 0.3569],\n",
            "         [0.3608, 0.3608, 0.3608,  ..., 0.3569, 0.3569, 0.3569],\n",
            "         ...,\n",
            "         [0.4235, 0.3922, 0.3882,  ..., 0.3686, 0.3882, 0.4000],\n",
            "         [0.3529, 0.3333, 0.3569,  ..., 0.2980, 0.3255, 0.3451],\n",
            "         [0.2902, 0.2784, 0.3255,  ..., 0.2549, 0.2863, 0.3059]],\n",
            "\n",
            "        [[0.4039, 0.4039, 0.4039,  ..., 0.3255, 0.3255, 0.3255],\n",
            "         [0.3961, 0.3961, 0.3961,  ..., 0.3137, 0.3137, 0.3137],\n",
            "         [0.3922, 0.3922, 0.3922,  ..., 0.3137, 0.3137, 0.3137],\n",
            "         ...,\n",
            "         [0.3961, 0.3647, 0.3608,  ..., 0.3686, 0.3882, 0.4000],\n",
            "         [0.3255, 0.3059, 0.3294,  ..., 0.2980, 0.3255, 0.3451],\n",
            "         [0.2627, 0.2510, 0.2980,  ..., 0.2549, 0.2863, 0.3059]]])\n"
          ],
          "name": "stdout"
        },
        {
          "output_type": "display_data",
          "data": {
            "image/png": "[encoded data removed]",
            "text/plain": [
              "<Figure size 432x288 with 1 Axes>"
            ]
          },
          "metadata": {
            "tags": []
          }
        },
        {
          "output_type": "stream",
          "text": [
            "tensor([[[0.3937, 0.3758, 0.3755,  ..., 0.3209, 0.3294, 0.3178],\n",
            "         [0.3609, 0.3652, 0.3767,  ..., 0.3340, 0.3299, 0.3281],\n",
            "         [0.3612, 0.3639, 0.3701,  ..., 0.3630, 0.3594, 0.3593],\n",
            "         ...,\n",
            "         [0.3855, 0.3929, 0.4379,  ..., 0.3362, 0.3686, 0.3829],\n",
            "         [0.3175, 0.3473, 0.4088,  ..., 0.2283, 0.2722, 0.3120],\n",
            "         [0.3666, 0.3729, 0.4399,  ..., 0.2706, 0.2664, 0.2987]],\n",
            "\n",
            "        [[0.3903, 0.3900, 0.3948,  ..., 0.3388, 0.3362, 0.3365],\n",
            "         [0.3534, 0.3669, 0.3857,  ..., 0.3636, 0.3557, 0.3450],\n",
            "         [0.3551, 0.3681, 0.3802,  ..., 0.3967, 0.3852, 0.3763],\n",
            "         ...,\n",
            "         [0.3532, 0.3711, 0.4170,  ..., 0.3466, 0.3631, 0.3728],\n",
            "         [0.2955, 0.3189, 0.3821,  ..., 0.2454, 0.2862, 0.3104],\n",
            "         [0.3539, 0.3545, 0.4287,  ..., 0.2738, 0.2872, 0.3069]],\n",
            "\n",
            "        [[0.3777, 0.3954, 0.4021,  ..., 0.3028, 0.3012, 0.3196],\n",
            "         [0.3684, 0.3781, 0.4009,  ..., 0.3173, 0.3076, 0.3008],\n",
            "         [0.3551, 0.3689, 0.3907,  ..., 0.3620, 0.3429, 0.3371],\n",
            "         ...,\n",
            "         [0.3171, 0.3393, 0.3981,  ..., 0.3670, 0.3857, 0.3875],\n",
            "         [0.2644, 0.2984, 0.3701,  ..., 0.2636, 0.3081, 0.3232],\n",
            "         [0.2766, 0.3189, 0.3931,  ..., 0.2660, 0.2898, 0.3034]]])\n"
          ],
          "name": "stdout"
        },
        {
          "output_type": "display_data",
          "data": {
            "image/png": "[encoded data removed]",
            "text/plain": [
              "<Figure size 432x288 with 1 Axes>"
            ]
          },
          "metadata": {
            "tags": []
          }
        }
      ]
    },
    {
      "cell_type": "code",
      "metadata": {
        "id": "JT8CX7xtGd7f",
        "colab_type": "code",
        "colab": {}
      },
      "source": [
        "torch.save(autoencoder.state_dict(), 'tmp_model.pt')"
      ],
      "execution_count": 0,
      "outputs": []
    },
    {
      "cell_type": "code",
      "metadata": {
        "id": "A1s0grW3GtLL",
        "colab_type": "code",
        "colab": {}
      },
      "source": [
        "autoencoder.load_state_dict(torch.load('tmp_model.pt'))\n"
      ],
      "execution_count": 0,
      "outputs": []
    }
  ]
}