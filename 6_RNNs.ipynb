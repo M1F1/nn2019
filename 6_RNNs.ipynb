{
 "cells": [
  {
   "cell_type": "markdown",
   "metadata": {},
   "source": [
    "# Lab 6. RNN\n",
    "### Importy"
   ]
  },
  {
   "cell_type": "code",
   "execution_count": 2,
   "metadata": {},
   "outputs": [],
   "source": [
    "%matplotlib inline\n",
    "\n",
    "# imports \n",
    "import torch\n",
    "from torch import nn\n",
    "from torch.nn.functional import cross_entropy\n",
    "\n",
    "from torchvision.datasets import MNIST\n",
    "from torchvision.transforms import ToTensor, Lambda, Compose\n",
    "\n",
    "import numpy as np\n",
    "import matplotlib.pyplot as plt \n",
    "from typing import Tuple, Optional"
   ]
  },
  {
   "cell_type": "markdown",
   "metadata": {},
   "source": [
    "### Ładowanie danych\n",
    "Na tych zajęciach będziemy traktować cyfry z MNISTa jako dane sekwencyjne, gdzie w danym kroku czasowym $T$ obserwujemy $T$-ty wiersz pikseli z cyfry."
   ]
  },
  {
   "cell_type": "code",
   "execution_count": 3,
   "metadata": {},
   "outputs": [
    {
     "name": "stderr",
     "output_type": "stream",
     "text": [
      "\r",
      "0it [00:00, ?it/s]"
     ]
    },
    {
     "name": "stdout",
     "output_type": "stream",
     "text": [
      "Downloading http://yann.lecun.com/exdb/mnist/train-images-idx3-ubyte.gz to ./MNIST/raw/train-images-idx3-ubyte.gz\n"
     ]
    },
    {
     "name": "stderr",
     "output_type": "stream",
     "text": [
      "9920512it [00:07, 1248728.17it/s]                             \n"
     ]
    },
    {
     "name": "stdout",
     "output_type": "stream",
     "text": [
      "Extracting ./MNIST/raw/train-images-idx3-ubyte.gz\n"
     ]
    },
    {
     "name": "stderr",
     "output_type": "stream",
     "text": [
      "\r",
      "0it [00:00, ?it/s]"
     ]
    },
    {
     "name": "stdout",
     "output_type": "stream",
     "text": [
      "Downloading http://yann.lecun.com/exdb/mnist/train-labels-idx1-ubyte.gz to ./MNIST/raw/train-labels-idx1-ubyte.gz\n"
     ]
    },
    {
     "name": "stderr",
     "output_type": "stream",
     "text": [
      "32768it [00:00, 89314.28it/s]                            \n",
      "0it [00:00, ?it/s]"
     ]
    },
    {
     "name": "stdout",
     "output_type": "stream",
     "text": [
      "Extracting ./MNIST/raw/train-labels-idx1-ubyte.gz\n",
      "Downloading http://yann.lecun.com/exdb/mnist/t10k-images-idx3-ubyte.gz to ./MNIST/raw/t10k-images-idx3-ubyte.gz\n"
     ]
    },
    {
     "name": "stderr",
     "output_type": "stream",
     "text": [
      "1654784it [00:01, 1030557.88it/s]                             \n",
      "0it [00:00, ?it/s]"
     ]
    },
    {
     "name": "stdout",
     "output_type": "stream",
     "text": [
      "Extracting ./MNIST/raw/t10k-images-idx3-ubyte.gz\n",
      "Downloading http://yann.lecun.com/exdb/mnist/t10k-labels-idx1-ubyte.gz to ./MNIST/raw/t10k-labels-idx1-ubyte.gz\n"
     ]
    },
    {
     "name": "stderr",
     "output_type": "stream",
     "text": [
      "8192it [00:00, 33332.30it/s]            "
     ]
    },
    {
     "name": "stdout",
     "output_type": "stream",
     "text": [
      "Extracting ./MNIST/raw/t10k-labels-idx1-ubyte.gz\n",
      "Processing...\n",
      "Done!\n"
     ]
    },
    {
     "name": "stderr",
     "output_type": "stream",
     "text": [
      "\n"
     ]
    }
   ],
   "source": [
    "transforms = Compose([ToTensor(), Lambda(lambda x: x.reshape(28, 28))])\n",
    "\n",
    "train_data = MNIST(root='.', train=True, transform=transforms, download=True)\n",
    "test_data = MNIST(root='.', train=False, transform=transforms)"
   ]
  },
  {
   "cell_type": "markdown",
   "metadata": {},
   "source": [
    "## Zadanie 1.\n",
    "\n",
    "Zaimplementuj \"zwykłą\" sieć rekurencyjną. \n",
    "![rnn](utils/rnn.png)\n",
    "\n",
    "* W klasie `RNN` należy zainicjalizować potrzebne wagi oraz zaimplementować główną logikę dla pojedynczej chwili czasowej $x_t$\n",
    "* Wyjście z sieci możemy mieć dowolny rozmiar, potrzebna jest również warstwa przekształcająca stan ukryty na wyjście.\n",
    "* W pętli uczenia należy dodać odpowiednie wywołanie sieci. HINT: pamiętać o iterowaniu po wymiarze \"czasowym\".\n"
   ]
  },
  {
   "cell_type": "code",
   "execution_count": 4,
   "metadata": {},
   "outputs": [],
   "source": [
    "class RNN(nn.Module):\n",
    "    \n",
    "    def __init__(self, \n",
    "                 input_size: int,\n",
    "                 hidden_size: int, \n",
    "                 output_size: int):\n",
    "        \"\"\"\n",
    "        :param input_size: int\n",
    "            Dimensionality of the input vector\n",
    "        :param hidden_size: int\n",
    "            Dimensionality of the hidden space\n",
    "        :param output_size: int\n",
    "            Desired dimensionality of the output vector\n",
    "        \"\"\"\n",
    "        super(RNN, self).__init__()\n",
    "\n",
    "        self.hidden_size = hidden_size\n",
    "\n",
    "        self.input_to_hidden = torch.nn.Linear(input_size + hidden_size, hidden_size)\n",
    "        self.hidden_to_output = torch.nn.Linear(hidden_size, output_size)   \n",
    "        self.tanh = torch.nn.Tanh()\n",
    "    \n",
    "    # for the sake of simlicity a single forward will process only a single timestamp \n",
    "    def forward(self, \n",
    "                input: torch.tensor, \n",
    "                hidden: torch.tensor) -> Tuple[torch.tensor, torch.tensor]:\n",
    "        \"\"\"\n",
    "        :param input: torch.tensor \n",
    "            Input tesnor for a single observation at timestep t\n",
    "            shape [batch_size, input_size]\n",
    "        :param hidden: torch.tensor\n",
    "            Representation of the memory of the RNN from previous timestep\n",
    "            shape [batch_size, hidden_size]\n",
    "        \"\"\"\n",
    "        concatenate_input = torch.cat([input, hidden], 1)\n",
    "        hidden = self.tanh((self.input_to_hidden(concatenate_input))) # batch_size x hidden_size\n",
    "        output = self.hidden_to_output(hidden) # batch_size x output_size\n",
    "        \n",
    "        return output, hidden\n",
    "    \n",
    "    def init_hidden(self, batch_size: int) -> torch.Tensor:\n",
    "        \"\"\"\n",
    "        Returns initial value for the hidden state\n",
    "        \"\"\"\n",
    "        return torch.zeros(batch_size, self.hidden_size, requires_grad=True)"
   ]
  },
  {
   "cell_type": "markdown",
   "metadata": {},
   "source": [
    "### Pętla uczenia"
   ]
  },
  {
   "cell_type": "code",
   "execution_count": 5,
   "metadata": {
    "scrolled": false
   },
   "outputs": [
    {
     "name": "stdout",
     "output_type": "stream",
     "text": [
      "Epoch: 0 Iter: 1/1200 Loss: 2.3050124645233154\n",
      "Epoch: 0 Iter: 101/1200 Loss: 1.3183505535125732\n",
      "Epoch: 0 Iter: 201/1200 Loss: 1.6057755947113037\n",
      "Epoch: 0 Iter: 301/1200 Loss: 0.9333569407463074\n",
      "Epoch: 0 Iter: 401/1200 Loss: 1.0428982973098755\n",
      "Epoch: 0 Iter: 501/1200 Loss: 1.1656566858291626\n",
      "Epoch: 0 Iter: 601/1200 Loss: 1.901902198791504\n",
      "Epoch: 0 Iter: 701/1200 Loss: 2.119434118270874\n",
      "Epoch: 0 Iter: 801/1200 Loss: 1.7072176933288574\n",
      "Epoch: 0 Iter: 901/1200 Loss: 1.7367557287216187\n",
      "Epoch: 0 Iter: 1001/1200 Loss: 1.6590548753738403\n",
      "Epoch: 0 Iter: 1101/1200 Loss: 1.5482258796691895\n",
      "Final Accuracy: 0.4307\n"
     ]
    }
   ],
   "source": [
    "torch.manual_seed(4)\n",
    "\n",
    "batch_size = 50\n",
    "\n",
    "# build data loaders\n",
    "train_loader = torch.utils.data.DataLoader(dataset=train_data, batch_size=batch_size, shuffle=True)\n",
    "test_loader = torch.utils.data.DataLoader(dataset=test_data, batch_size=batch_size, shuffle=False)\n",
    "\n",
    "# initialize network and optimizer\n",
    "rnn = RNN(28, 64, 10)\n",
    "optimizer = torch.optim.Adam(rnn.parameters(), lr=0.01)   \n",
    "\n",
    "# we will train for only a single epoch \n",
    "epochs = 1\n",
    "\n",
    "grads=[]\n",
    "# main loop\n",
    "for epoch in range(epochs):\n",
    "    \n",
    "    for i, (x, y) in enumerate(train_loader):  \n",
    "        \n",
    "        optimizer.zero_grad()\n",
    "        # get initial hidden state\n",
    "        hidden = rnn.init_hidden(x.shape[0])\n",
    "        \n",
    "        # get output for the sample, remember that we treat it as a sequence\n",
    "        # so you need to iterate over the 2nd, time dimensiotn\n",
    "        \n",
    "        seq_len = x.shape[1]\n",
    "            \n",
    "        hiddens = []\n",
    "        for j in range(seq_len):\n",
    "            output, hidden = rnn(x[:, j], hidden)\n",
    "            hidden.retain_grad()\n",
    "            hiddens.append(hidden)\n",
    "            \n",
    "            \n",
    "        loss = cross_entropy(output, y)\n",
    "        loss.backward()\n",
    "        optimizer.step()  \n",
    "        \n",
    "        grads.append([np.linalg.norm(h.grad.numpy()) for h in hiddens])\n",
    "        \n",
    "        if i % 100 == 1:\n",
    "            print(f\"Epoch: {epoch} Iter: {i}/{len(train_loader)} Loss: {loss}\")\n",
    "\n",
    "# evaluate on the test set\n",
    "with torch.no_grad():\n",
    "    \n",
    "    correct = 0\n",
    "    for i, (x, y) in enumerate(test_loader):\n",
    "\n",
    "        hidden = rnn.init_hidden(x.shape[0])\n",
    "        seq_len = x.shape[1]\n",
    "        \n",
    "        for j in range(seq_len):\n",
    "            output, hidden = rnn(x[:, j], hidden)\n",
    "\n",
    "        pred = output.argmax(dim=1)\n",
    "        correct += int(sum(pred == y))\n",
    "    \n",
    "    accuracy = correct / (batch_size * len(test_loader))\n",
    "\n",
    "    print(f\"Final Accuracy: {accuracy}\")\n",
    "    assert accuracy > 0.4, \"Subject to random seed you should get over 0.4 accuracy, try changing the seed!\""
   ]
  },
  {
   "cell_type": "markdown",
   "metadata": {},
   "source": [
    "## Zadanie 2\n",
    "Dopisz kod do powyższej pętli, który zbiera gradienty po kolejnych stanach ukrytych dla przykładu. Pokaż (za pomocą wykresu numpy) efekt zanikającego gradientu rysując średnie normy gradientu dla każdego stanu ukrytego po każdym kroku. HINT: dla MNISTa mamy 28 kroków. \n",
    "\n",
    "**Ważne:** Ponieważ normalnie w torchu czyścimy wszystkie gradienty po każdej iteracji aby je zachować w dla niektórych wag przydatna będzie metoda [`retain_grad`](https://pytorch.org/docs/stable/autograd.html#torch.Tensor.retain_grad)."
   ]
  },
  {
   "cell_type": "code",
   "execution_count": 6,
   "metadata": {},
   "outputs": [
    {
     "data": {
      "text/plain": [
       "<BarContainer object of 28 artists>"
      ]
     },
     "execution_count": 6,
     "metadata": {},
     "output_type": "execute_result"
    },
    {
     "data": {
      "image/png": "[encoded data removed]",
      "text/plain": [
       "<Figure size 432x288 with 1 Axes>"
      ]
     },
     "metadata": {
      "needs_background": "light"
     },
     "output_type": "display_data"
    }
   ],
   "source": [
    "# mean_grads in assume to be a 1D array or list of average gradients norm per timestep memory \n",
    "grads_t = torch.Tensor(grads)\n",
    "mean_grads = torch.mean(grads_t, dim=0)\n",
    "\n",
    "plt.bar(x=np.arange(len(mean_grads)), height=mean_grads)"
   ]
  },
  {
   "cell_type": "markdown",
   "metadata": {},
   "source": [
    "## Zadanie 3\n",
    "Ostatnim zadaniem jest implementacji komórki i sieci LSTM. \n",
    "\n",
    "![lstm](utils/lstm.png)\n",
    "\n",
    "* W klasie `LSTMCell` ma znaleźć się główna loginka LSTMa, czyli wszystkie wagi do stanów `hidden` i `cell` jak i bramek kontrolujących te stany. \n",
    "* W klasie `LSTM` powinno znaleźć się wywołanie komórki LSTM, HINT: poprzednio było w pętli uczenia, teraz przeniesiemy to do klasy modelu.\n",
    "* W pętli uczenia należy uzupełnić brakujące wywołania do uczenia i ewaluacji modelu.\n",
    "\n",
    "Zdecydowanie polecam [materiały Chrisa Olaha](http://colah.github.io/posts/2015-08-Understanding-LSTMs/) do zarówno zrozumienia jak i ściągi do wzorów.\n",
    "\n",
    "Zadaniem jest osiągnięcie dokładności na poziomie przynajmniej 90%, przy prawidłowej implementacji nie powinno być z tym problemów używając podanych hiperparametrów. Dozwolona jest oczywiście zmienia `random seed`.\n",
    "\n",
    "### Komórka LSTM"
   ]
  },
  {
   "cell_type": "code",
   "execution_count": 13,
   "metadata": {},
   "outputs": [],
   "source": [
    "class LSTMCell(nn.Module):\n",
    "\n",
    "    def __init__(self, \n",
    "                 input_size: int, \n",
    "                 hidden_size: int):\n",
    "        \"\"\"\n",
    "        :param input_size: int\n",
    "            Dimensionality of the input vector\n",
    "        :param hidden_size: int\n",
    "            Dimensionality of the hidden space\n",
    "        \"\"\"\n",
    "        \n",
    "        super(LSTMCell, self).__init__()\n",
    "        \n",
    "        self.input_size = input_size\n",
    "        self.hidden_size = hidden_size\n",
    "\n",
    "        # initialize LSTM weights \n",
    "        # NOTE: there are different approaches that are all correct \n",
    "        # (e.g. single matrix for all input opperations), you can pick\n",
    "        # whichever you like for this task\n",
    "        concatenation_size = input_size + hidden_size\n",
    "        self.forget_gate_layer = torch.nn.Linear(concatenation_size, hidden_size)\n",
    "        self.sigmoid_1 = torch.nn.Sigmoid()\n",
    "        self.input_gate_layer = torch.nn.Linear(concatenation_size, hidden_size)\n",
    "        self.sigmoid_2 = torch.nn.Sigmoid()\n",
    "        self.cell_gate_layer = torch.nn.Linear(concatenation_size, hidden_size)\n",
    "        self.tanh_cell_gate_layer = torch.nn.Tanh()\n",
    "        self.output_layer = torch.nn.Linear(concatenation_size, hidden_size)\n",
    "        self.sigmoid_3 = torch.nn.Sigmoid()\n",
    "        self.tanh_output_layer = torch.nn.Tanh()\n",
    "\n",
    "    def forward(self, \n",
    "                input: torch.tensor, \n",
    "                states: Tuple[torch.tensor, torch.tensor]) -> Tuple[torch.tensor, torch.tensor]:\n",
    "        \n",
    "        hidden, cell = states\n",
    "        \n",
    "        \n",
    "        # Compute input, forget, and output gates\n",
    "        # then compute new cell state and hidden state\n",
    "        # see http://colah.github.io/posts/2015-08-Understanding-LSTMs/ \n",
    "        concatenate_i = torch.cat([input, hidden], 1)\n",
    "        forget_gate_layer_o = self.sigmoid_1(self.forget_gate_layer(concatenate_i))\n",
    "        input_gate_layer_o = self.sigmoid_2(self.input_gate_layer(concatenate_i))\n",
    "        tanh_cell_gate_layer_o = self.tanh_cell_gate_layer(self.cell_gate_layer(concatenate_i))\n",
    "        output_layer_o = self.sigmoid_3(self.output_layer(concatenate_i))\n",
    "\n",
    "        cell = forget_gate_layer_o * cell + input_gate_layer_o * tanh_cell_gate_layer_o \n",
    "        hidden = output_layer_o * self.tanh_output_layer(cell)\n",
    "        \n",
    "        return hidden, cell"
   ]
  },
  {
   "cell_type": "markdown",
   "metadata": {},
   "source": [
    "### Klasa modelu LSTM"
   ]
  },
  {
   "cell_type": "code",
   "execution_count": 14,
   "metadata": {},
   "outputs": [],
   "source": [
    "class LSTM(nn.Module):\n",
    "\n",
    "    def __init__(self, \n",
    "                 input_size: int, \n",
    "                 hidden_size: int):\n",
    "        \"\"\"\n",
    "        :param input_size: int\n",
    "            Dimensionality of the input vector\n",
    "        :param hidden_size: int\n",
    "            Dimensionality of the hidden space\n",
    "        \"\"\"\n",
    "        \n",
    "        super(LSTM, self).__init__()\n",
    "        \n",
    "        self.input_size = input_size\n",
    "        self.hidden_size = hidden_size\n",
    "\n",
    "        self.cell = LSTMCell(input_size=input_size, hidden_size=hidden_size)\n",
    "        \n",
    "    def forward(self, \n",
    "                input: torch.tensor) -> Tuple[torch.tensor, torch.tensor]:\n",
    "        \"\"\"\n",
    "        :param input: torch.tensor \n",
    "            Input tesnor for a single observation at timestep t\n",
    "            shape [batch_size, input_size]\n",
    "        Returns Tuple of two torch.tensors, both of shape [seq_len, batch_size, hidden_size]\n",
    "        \"\"\"\n",
    "        \n",
    "        batch_size = input.shape[0]\n",
    "        \n",
    "        initial_states = self.init_hidden_cell(batch_size)\n",
    "        \n",
    "        hiddens = []\n",
    "        cells = []\n",
    "        \n",
    "        hidden, cell = initial_states\n",
    "\n",
    "        # this time we will process the whole sequence in the forward method\n",
    "        # as oppose to the previous exercise, remember to loop over the timesteps\n",
    "        \n",
    "        seq_len = input.shape[1]\n",
    "        \n",
    "        for j in range(seq_len): \n",
    "            hidden, cell = self.cell(input=input[:, j], states=(hidden, cell))\n",
    "            hiddens.append(hidden) \n",
    "            cells.append(cell) \n",
    "        \n",
    "        return hiddens, cells\n",
    "    \n",
    "    def init_hidden_cell(self, batch_size):\n",
    "        \"\"\"\n",
    "        Returns initial value for the hidden and cell states\n",
    "        \"\"\"\n",
    "        return (torch.zeros(batch_size, self.hidden_size, requires_grad=True), \n",
    "                torch.zeros(batch_size, self.hidden_size, requires_grad=True))"
   ]
  },
  {
   "cell_type": "markdown",
   "metadata": {},
   "source": [
    "### Pętla uczenia"
   ]
  },
  {
   "cell_type": "code",
   "execution_count": 15,
   "metadata": {},
   "outputs": [
    {
     "name": "stdout",
     "output_type": "stream",
     "text": [
      "Epoch: 0 Iter: 1/1200 Loss: 2.3010\n",
      "Epoch: 0 Iter: 51/1200 Loss: 1.2579\n",
      "Epoch: 0 Iter: 101/1200 Loss: 0.8269\n",
      "Epoch: 0 Iter: 151/1200 Loss: 0.6720\n",
      "Epoch: 0 Iter: 201/1200 Loss: 0.4332\n",
      "Epoch: 0 Iter: 251/1200 Loss: 0.4170\n",
      "Epoch: 0 Iter: 301/1200 Loss: 0.1630\n",
      "Epoch: 0 Iter: 351/1200 Loss: 0.1717\n",
      "Epoch: 0 Iter: 401/1200 Loss: 0.1611\n",
      "Epoch: 0 Iter: 451/1200 Loss: 0.2107\n",
      "Epoch: 0 Iter: 501/1200 Loss: 0.1183\n",
      "Epoch: 0 Iter: 551/1200 Loss: 0.0910\n",
      "Epoch: 0 Iter: 601/1200 Loss: 0.2360\n",
      "Epoch: 0 Iter: 651/1200 Loss: 0.0414\n",
      "Epoch: 0 Iter: 701/1200 Loss: 0.1764\n",
      "Epoch: 0 Iter: 751/1200 Loss: 0.0929\n",
      "Epoch: 0 Iter: 801/1200 Loss: 0.2429\n",
      "Epoch: 0 Iter: 851/1200 Loss: 0.1317\n",
      "Epoch: 0 Iter: 901/1200 Loss: 0.2634\n",
      "Epoch: 0 Iter: 951/1200 Loss: 0.0602\n",
      "Epoch: 0 Iter: 1001/1200 Loss: 0.2285\n",
      "Epoch: 0 Iter: 1051/1200 Loss: 0.0499\n",
      "Epoch: 0 Iter: 1101/1200 Loss: 0.1827\n",
      "Epoch: 0 Iter: 1151/1200 Loss: 0.0809\n",
      "Final Accuracy: 0.9668\n"
     ]
    }
   ],
   "source": [
    "from itertools import chain\n",
    "\n",
    "torch.manual_seed(1)\n",
    "\n",
    "batch_size = 50\n",
    "\n",
    "# build data loaders\n",
    "train_loader = torch.utils.data.DataLoader(dataset=train_data, batch_size=batch_size, shuffle=True)\n",
    "test_loader = torch.utils.data.DataLoader(dataset=test_data, batch_size=batch_size, shuffle=False)\n",
    "\n",
    "# initialize the lstm with an additional cliassifier layer at the top\n",
    "lstm = LSTM(input_size=28, hidden_size=64)\n",
    "clf = nn.Linear(in_features=64, out_features=10)\n",
    "\n",
    "# initialize a optimizer\n",
    "params = chain(lstm.parameters(), clf.parameters())\n",
    "optimizer = torch.optim.Adam(params, lr=0.01) \n",
    "\n",
    "# we will train for only a single epoch \n",
    "epoch = 1\n",
    "\n",
    "# main loop\n",
    "for epoch in range(epoch):\n",
    "    \n",
    "    for i, (x, y) in enumerate(train_loader):        \n",
    "        \n",
    "        optimizer.zero_grad()\n",
    "        \n",
    "        # get output for the sample, remember that we treat it as a sequence\n",
    "        # so you need to iterate over the sequence length here\n",
    "#         for j in range(x.shape[0]):\n",
    "        hiddens, cells = lstm(x)   \n",
    "        output = clf(cells[-1])  \n",
    "        # calucate the loss\n",
    "        loss = cross_entropy(output, y)\n",
    "        loss.backward()\n",
    "        optimizer.step()                                \n",
    "        \n",
    "        if i % 50 == 1:\n",
    "            print(f\"Epoch: {epoch} Iter: {i}/{len(train_loader)} Loss: {loss:.4f}\")\n",
    "\n",
    "# evaluate on the test set\n",
    "with torch.no_grad():\n",
    "    \n",
    "    correct = 0\n",
    "    for i, (x, y) in enumerate(test_loader):\n",
    "        hiddens, cells = lstm(x)   \n",
    "        output = clf(cells[-1])  \n",
    "        pred = output.argmax(dim=1)\n",
    "        correct += int(sum(pred == y))\n",
    "    \n",
    "    accuracy = correct / (batch_size * len(test_loader))\n",
    "    \n",
    "    print(f\"Final Accuracy: {accuracy}\")\n",
    "    assert accuracy > 0.9, \"Subject to random seed you should get over 0.9 accuracy, try changing the seed!\""
   ]
  },
  {
   "cell_type": "code",
   "execution_count": null,
   "metadata": {},
   "outputs": [],
   "source": []
  }
 ],
 "metadata": {
  "kernelspec": {
   "display_name": "Python 3",
   "language": "python",
   "name": "python3"
  },
  "language_info": {
   "codemirror_mode": {
    "name": "ipython",
    "version": 3
   },
   "file_extension": ".py",
   "mimetype": "text/x-python",
   "name": "python",
   "nbconvert_exporter": "python",
   "pygments_lexer": "ipython3",
   "version": "3.6.8"
  }
 },
 "nbformat": 4,
 "nbformat_minor": 2
}
